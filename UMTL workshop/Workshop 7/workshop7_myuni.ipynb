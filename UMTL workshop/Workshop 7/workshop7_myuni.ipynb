{
 "cells": [
  {
   "cell_type": "markdown",
   "metadata": {},
   "source": [
    "# Workshop 7 - Introduction to Deep Neural Networks\n",
    "\n",
    "Code for workshop 7.  This will use Keras (within tensorflow v2) to build a small fully connected network. "
   ]
  },
  {
   "cell_type": "code",
   "execution_count": 1,
   "metadata": {},
   "outputs": [],
   "source": [
    "# Python ≥3.5 is required\n",
    "import sys\n",
    "assert sys.version_info >= (3, 5)\n",
    "\n",
    "# Scikit-Learn ≥0.20 is required\n",
    "import sklearn\n",
    "assert sklearn.__version__ >= \"0.20\"\n",
    "\n",
    "# Common imports\n",
    "import numpy as np\n",
    "import os, time\n",
    "import pandas as pd\n",
    "\n",
    "# Our new Deep Learning imports\n",
    "import tensorflow as tf\n",
    "from tensorflow import keras\n",
    "\n",
    "# To plot nice figures\n",
    "%matplotlib inline\n",
    "import matplotlib as mpl\n",
    "import matplotlib.pyplot as plt\n",
    "mpl.rc('axes', labelsize=14)\n",
    "mpl.rc('xtick', labelsize=12)\n",
    "mpl.rc('ytick', labelsize=12)\n",
    "import seaborn as sns; sns.set()"
   ]
  },
  {
   "cell_type": "code",
   "execution_count": 2,
   "metadata": {},
   "outputs": [],
   "source": [
    "# !pip install tensorflow"
   ]
  },
  {
   "cell_type": "code",
   "execution_count": 3,
   "metadata": {},
   "outputs": [
    {
     "name": "stdout",
     "output_type": "stream",
     "text": [
      "2.12.0\n",
      "2.12.0\n"
     ]
    }
   ],
   "source": [
    "# Check the versions are OK (both should be 2 or more)\n",
    "print(tf.__version__)\n",
    "print(keras.__version__)"
   ]
  },
  {
   "cell_type": "markdown",
   "metadata": {},
   "source": [
    "## Load data\n",
    "We will use fashion MNIST, which is a set of small images (28x28) that contain 10 different fashion items - see below for class names and an example image."
   ]
  },
  {
   "cell_type": "code",
   "execution_count": 4,
   "metadata": {},
   "outputs": [
    {
     "name": "stdout",
     "output_type": "stream",
     "text": [
      "Downloading data from https://storage.googleapis.com/tensorflow/tf-keras-datasets/train-labels-idx1-ubyte.gz\n",
      "29515/29515 [==============================] - 0s 1us/step\n",
      "Downloading data from https://storage.googleapis.com/tensorflow/tf-keras-datasets/train-images-idx3-ubyte.gz\n",
      "26421880/26421880 [==============================] - 3s 0us/step\n",
      "Downloading data from https://storage.googleapis.com/tensorflow/tf-keras-datasets/t10k-labels-idx1-ubyte.gz\n",
      "5148/5148 [==============================] - 0s 0s/step\n",
      "Downloading data from https://storage.googleapis.com/tensorflow/tf-keras-datasets/t10k-images-idx3-ubyte.gz\n",
      "4422102/4422102 [==============================] - 1s 0us/step\n"
     ]
    }
   ],
   "source": [
    "# This is a built-in data for keras, so easily accessible\n",
    "fashion_mnist = keras.datasets.fashion_mnist\n",
    "(X_train_full, y_train_full), (X_test, y_test) = fashion_mnist.load_data()"
   ]
  },
  {
   "cell_type": "code",
   "execution_count": 5,
   "metadata": {},
   "outputs": [
    {
     "name": "stdout",
     "output_type": "stream",
     "text": [
      "(60000, 28, 28)\n",
      "(10000, 28, 28)\n"
     ]
    }
   ],
   "source": [
    "# Let's see how big it is\n",
    "print(X_train_full.shape)\n",
    "print(X_test.shape)\n",
    "n_total = X_train_full.shape[0]"
   ]
  },
  {
   "cell_type": "code",
   "execution_count": 8,
   "metadata": {},
   "outputs": [
    {
     "name": "stdout",
     "output_type": "stream",
     "text": [
      "float64\n",
      "float64\n",
      "Coat\n"
     ]
    },
    {
     "data": {
      "image/png": "[encoded data removed]",
      "text/plain": [
       "<Figure size 432x288 with 1 Axes>"
      ]
     },
     "metadata": {},
     "output_type": "display_data"
    }
   ],
   "source": [
    "# Scale the data appropriately (it starts with max of 255, but we want max of 1)\n",
    "# We will do this \"by hand\" here, but we could build a pipeline scaler for this instead\n",
    "# We also split the training set given to us into training and validation subsets\n",
    "#   The value of 5000 samples as the size of the validation set is an arbitrary choice\n",
    "X_test = X_test/255\n",
    "X_val, X_train = X_train_full[:5000]/255, X_train_full[5000:]/255 \n",
    "y_val, y_train = y_train_full[:5000], y_train_full[5000:]\n",
    "class_names = np.array([ \"T-shirt/top\" , \"Trouser\" , \"Pullover\" , \"Dress\" , \"Coat\" , \"Sandal\" , \n",
    "               \"Shirt\" , \"Sneaker\" , \"Bag\" , \"Ankle boot\" ])\n",
    "\n",
    "# Inspect some aspects of the data (in general, you should play around with the data \n",
    "#                                   more than this to get a feel for it)\n",
    "# Check that scaled types are appropriate\n",
    "print(X_train.dtype)\n",
    "print(X_val.dtype)\n",
    "# Look at first item\n",
    "print(class_names[y_train[0]])\n",
    "plt.imshow(X_train[0,:,:], cmap='gray')\n",
    "plt.grid(False)\n",
    "plt.show()"
   ]
  },
  {
   "cell_type": "code",
   "execution_count": 9,
   "metadata": {},
   "outputs": [
    {
     "data": {
      "image/png": "[encoded data removed]",
      "text/plain": [
       "<Figure size 432x288 with 1 Axes>"
      ]
     },
     "metadata": {},
     "output_type": "display_data"
    },
    {
     "data": {
      "image/png": "[encoded data removed]",
      "text/plain": [
       "<Figure size 432x288 with 1 Axes>"
      ]
     },
     "metadata": {},
     "output_type": "display_data"
    },
    {
     "data": {
      "image/png": "[encoded data removed]",
      "text/plain": [
       "<Figure size 432x288 with 1 Axes>"
      ]
     },
     "metadata": {},
     "output_type": "display_data"
    }
   ],
   "source": [
    "# Let's look at the distribution of labels in the training, validation and test sets\n",
    "plt.hist(y_train)\n",
    "plt.show()\n",
    "plt.hist(y_val)\n",
    "plt.show()\n",
    "plt.hist(y_test)\n",
    "plt.show()"
   ]
  },
  {
   "cell_type": "markdown",
   "metadata": {},
   "source": [
    "## Simple Neural Network Code with Keras\n",
    "\n",
    "We will use the keras version built into tensorflow version 2.\n",
    "It is remarkably simple for building, training and evaluating networks."
   ]
  },
  {
   "cell_type": "code",
   "execution_count": 10,
   "metadata": {},
   "outputs": [],
   "source": [
    "# This is *all* the code needed to define the network architecture\n",
    "#  1 input layer + 2 hidden layers of sizes 300 and 100 + 1 output layer\n",
    "model = keras.models.Sequential()   # This is a style of building networks - the easiest option\n",
    "model.add(keras.layers.Flatten(input_shape = [28 , 28]))   # our inputs are 28 x 28 arrays, so need to become 1D\n",
    "model.add(keras.layers.Dense(300, activation = \"relu\"))    # first hidden layer\n",
    "model.add(keras.layers.Dense(100, activation = \"relu\"))    # second hidden layer\n",
    "model.add(keras.layers.Dense(10, activation = \"softmax\"))  # output layer"
   ]
  },
  {
   "cell_type": "code",
   "execution_count": 11,
   "metadata": {},
   "outputs": [
    {
     "name": "stdout",
     "output_type": "stream",
     "text": [
      "Model: \"sequential\"\n",
      "_________________________________________________________________\n",
      " Layer (type)                Output Shape              Param #   \n",
      "=================================================================\n",
      " flatten (Flatten)           (None, 784)               0         \n",
      "                                                                 \n",
      " dense (Dense)               (None, 300)               235500    \n",
      "                                                                 \n",
      " dense_1 (Dense)             (None, 100)               30100     \n",
      "                                                                 \n",
      " dense_2 (Dense)             (None, 10)                1010      \n",
      "                                                                 \n",
      "=================================================================\n",
      "Total params: 266,610\n",
      "Trainable params: 266,610\n",
      "Non-trainable params: 0\n",
      "_________________________________________________________________\n"
     ]
    }
   ],
   "source": [
    "# Print out some info on the network - take note of the number of parameters (weights and biases)\n",
    "# Can you calculate the number of parameters yourself?\n",
    "model.summary()"
   ]
  },
  {
   "cell_type": "code",
   "execution_count": 12,
   "metadata": {},
   "outputs": [],
   "source": [
    "# Couple the architecture definition to a loss function and optimiser (and other performance metrics)\n",
    "# Note that we use sparse_categorical_crossentropy because the entries in y_train are just numbers from 0 to 9\n",
    "# If y_train was encoded as one-hot vectors, then the appropriate loss would be categorical_crossentropy instead\n",
    "# We will use the SGD optimiser here, but Adam is another popular choice\n",
    "model.compile(loss=\"sparse_categorical_crossentropy\", optimizer=\"sgd\", metrics=[\"accuracy\"])"
   ]
  },
  {
   "cell_type": "code",
   "execution_count": 13,
   "metadata": {},
   "outputs": [
    {
     "name": "stdout",
     "output_type": "stream",
     "text": [
      "Epoch 1/5\n",
      "1719/1719 [==============================] - 10s 4ms/step - loss: 0.7081 - accuracy: 0.7681 - val_loss: 0.5205 - val_accuracy: 0.8244\n",
      "Epoch 2/5\n",
      "1719/1719 [==============================] - 8s 5ms/step - loss: 0.4903 - accuracy: 0.8293 - val_loss: 0.4501 - val_accuracy: 0.8478\n",
      "Epoch 3/5\n",
      "1719/1719 [==============================] - 8s 4ms/step - loss: 0.4433 - accuracy: 0.8442 - val_loss: 0.4136 - val_accuracy: 0.8562\n",
      "Epoch 4/5\n",
      "1719/1719 [==============================] - 9s 5ms/step - loss: 0.4170 - accuracy: 0.8522 - val_loss: 0.3925 - val_accuracy: 0.8658\n",
      "Epoch 5/5\n",
      "1719/1719 [==============================] - 7s 4ms/step - loss: 0.3970 - accuracy: 0.8617 - val_loss: 0.3988 - val_accuracy: 0.8578\n"
     ]
    }
   ],
   "source": [
    "# Now train (fit) the model, specifying appropriate data and number of epochs (small here to save time)\n",
    "# Save the history of metrics versus epochs - *always* keep this\n",
    "history = model.fit(X_train, y_train, epochs=5, validation_data=(X_val, y_val), batch_size=32)"
   ]
  },
  {
   "cell_type": "code",
   "execution_count": 14,
   "metadata": {},
   "outputs": [
    {
     "data": {
      "image/png": "[encoded data removed]",
      "text/plain": [
       "<Figure size 576x360 with 1 Axes>"
      ]
     },
     "metadata": {},
     "output_type": "display_data"
    }
   ],
   "source": [
    "# Simple way to plot the history information (see later for more detail)\n",
    "pd.DataFrame(history.history).plot(figsize=(8 , 5))\n",
    "plt.show()"
   ]
  },
  {
   "cell_type": "code",
   "execution_count": 15,
   "metadata": {},
   "outputs": [
    {
     "name": "stdout",
     "output_type": "stream",
     "text": [
      "[0.3988083600997925, 0.8578000068664551]\n"
     ]
    }
   ],
   "source": [
    "# Now we can run the model on any data and get results (loss and accuracy both reported)\n",
    "valres = model.evaluate(X_val, y_val, verbose=0)\n",
    "print(valres)"
   ]
  },
  {
   "cell_type": "code",
   "execution_count": 16,
   "metadata": {},
   "outputs": [
    {
     "name": "stdout",
     "output_type": "stream",
     "text": [
      "1/1 [==============================] - 0s 174ms/step\n",
      "[[0.   0.   0.   0.   0.   0.   0.   0.   0.   1.  ]\n",
      " [0.98 0.   0.   0.   0.   0.   0.02 0.   0.   0.  ]\n",
      " [0.29 0.06 0.07 0.37 0.07 0.   0.12 0.   0.01 0.  ]]\n"
     ]
    }
   ],
   "source": [
    "# We can look at the probability of predicting each class for each image\n",
    "# Each row has ten probabilities (one per class)\n",
    "y_pred = model.predict(X_val[:3])  # use the first three validation cases as an example\n",
    "print(y_pred.round(2))  # round to two decimal places when printing"
   ]
  },
  {
   "cell_type": "code",
   "execution_count": 17,
   "metadata": {},
   "outputs": [
    {
     "name": "stdout",
     "output_type": "stream",
     "text": [
      "1/1 [==============================] - 0s 23ms/step\n",
      "[9 0 3]\n",
      "['Ankle boot' 'T-shirt/top' 'Dress']\n",
      "['Ankle boot' 'T-shirt/top' 'T-shirt/top']\n"
     ]
    },
    {
     "data": {
      "image/png": "[encoded data removed]",
      "text/plain": [
       "<Figure size 432x288 with 1 Axes>"
      ]
     },
     "metadata": {},
     "output_type": "display_data"
    }
   ],
   "source": [
    "# We can inspect the output class predictions by find the class with maximum probability\n",
    "y_pred = np.argmax(model.predict(X_val[:3]), axis=-1)\n",
    "print(y_pred)   # predicted classes\n",
    "print(class_names[y_pred])   # names of these classes (prediction)\n",
    "print(class_names[y_val[:3]])   # names of true classes\n",
    "# Display an image of the first validation sample\n",
    "plt.imshow(X_val[0].reshape((28,28)), cmap=\"gray\")\n",
    "plt.grid(False)"
   ]
  },
  {
   "cell_type": "markdown",
   "metadata": {},
   "source": [
    "# Now for a little more detail\n",
    "\n",
    "For example, why make these particular choices for architecture and parameters.\n",
    "\n",
    "We will set up some more general code so that we can build and compare a range of networks."
   ]
  },
  {
   "cell_type": "code",
   "execution_count": 18,
   "metadata": {},
   "outputs": [],
   "source": [
    "# More general settings\n",
    "# Let's allow the size of the training and validation sets to change\n",
    "#n_train = n_total   # as above\n",
    "#n_val = 5000      # as above\n",
    "n_train = 5000   # smaller set\n",
    "n_val = 1000\n",
    "# Define the number and size of hidden layers\n",
    "#hiddensizes = [300, 100]  # this was what we did above\n",
    "hiddensizes = [100]   # instead, try a simpler one (only one layer)\n",
    "# Define the activation function to be used by hidden layers\n",
    "actfn = \"relu\"\n",
    "# Optimiser and learning rate\n",
    "optimizer = keras.optimizers.SGD\n",
    "learningrate = 0.01\n",
    "# Set size of batch and number of epochs\n",
    "batch_size = 50\n",
    "n_epochs = 20"
   ]
  },
  {
   "cell_type": "code",
   "execution_count": 19,
   "metadata": {},
   "outputs": [
    {
     "data": {
      "image/png": "[encoded data removed]",
      "text/plain": [
       "<Figure size 432x288 with 1 Axes>"
      ]
     },
     "metadata": {},
     "output_type": "display_data"
    },
    {
     "data": {
      "image/png": "[encoded data removed]",
      "text/plain": [
       "<Figure size 432x288 with 1 Axes>"
      ]
     },
     "metadata": {},
     "output_type": "display_data"
    },
    {
     "data": {
      "image/png": "[encoded data removed]",
      "text/plain": [
       "<Figure size 432x288 with 1 Axes>"
      ]
     },
     "metadata": {},
     "output_type": "display_data"
    }
   ],
   "source": [
    "# Let's look at the distribution of labels in the training, validation and test sets we will use\n",
    "plt.hist(y_train[:n_train])\n",
    "plt.show()\n",
    "plt.hist(y_val[:n_val])\n",
    "plt.show()\n",
    "plt.hist(y_test)\n",
    "plt.show()"
   ]
  },
  {
   "cell_type": "code",
   "execution_count": 20,
   "metadata": {},
   "outputs": [],
   "source": [
    "# Build a more general model using various settings\n",
    "def model_factory(hiddensizes, actfn, optimizer, learningrate):\n",
    "    model = keras.models.Sequential()\n",
    "    model.add(keras.layers.Flatten(input_shape = [28 , 28]))    # always have same sized inputs\n",
    "    for n in hiddensizes:\n",
    "        model.add(keras.layers.Dense(n, activation = actfn))\n",
    "    model.add(keras.layers.Dense(10, activation = \"softmax\"))   # always have 10 classes\n",
    "    model.compile(loss=\"sparse_categorical_crossentropy\", optimizer=optimizer(learning_rate=learningrate), metrics=[\"accuracy\"])\n",
    "    return model"
   ]
  },
  {
   "cell_type": "code",
   "execution_count": 23,
   "metadata": {},
   "outputs": [
    {
     "name": "stdout",
     "output_type": "stream",
     "text": [
      "Model: \"sequential_2\"\n",
      "_________________________________________________________________\n",
      " Layer (type)                Output Shape              Param #   \n",
      "=================================================================\n",
      " flatten_2 (Flatten)         (None, 784)               0         \n",
      "                                                                 \n",
      " dense_4 (Dense)             (None, 100)               78500     \n",
      "                                                                 \n",
      " dense_5 (Dense)             (None, 10)                1010      \n",
      "                                                                 \n",
      "=================================================================\n",
      "Total params: 79,510\n",
      "Trainable params: 79,510\n",
      "Non-trainable params: 0\n",
      "_________________________________________________________________\n",
      "Epoch 1/20\n",
      "100/100 [==============================] - 1s 4ms/step - loss: 1.7459 - accuracy: 0.4680 - val_loss: 1.3063 - val_accuracy: 0.6500\n",
      "Epoch 2/20\n",
      "100/100 [==============================] - 0s 4ms/step - loss: 1.1508 - accuracy: 0.6552 - val_loss: 1.0079 - val_accuracy: 0.6840\n",
      "Epoch 3/20\n",
      "100/100 [==============================] - 0s 3ms/step - loss: 0.9541 - accuracy: 0.6858 - val_loss: 0.8730 - val_accuracy: 0.7280\n",
      "Epoch 4/20\n",
      "100/100 [==============================] - 0s 5ms/step - loss: 0.8575 - accuracy: 0.7084 - val_loss: 0.8053 - val_accuracy: 0.7400\n",
      "Epoch 5/20\n",
      "100/100 [==============================] - 1s 5ms/step - loss: 0.7971 - accuracy: 0.7274 - val_loss: 0.7564 - val_accuracy: 0.7600\n",
      "Epoch 6/20\n",
      "100/100 [==============================] - 0s 5ms/step - loss: 0.7528 - accuracy: 0.7466 - val_loss: 0.7210 - val_accuracy: 0.7680\n",
      "Epoch 7/20\n",
      "100/100 [==============================] - 0s 3ms/step - loss: 0.7196 - accuracy: 0.7580 - val_loss: 0.6904 - val_accuracy: 0.7790\n",
      "Epoch 8/20\n",
      "100/100 [==============================] - 0s 3ms/step - loss: 0.6899 - accuracy: 0.7696 - val_loss: 0.6712 - val_accuracy: 0.7810\n",
      "Epoch 9/20\n",
      "100/100 [==============================] - 0s 4ms/step - loss: 0.6659 - accuracy: 0.7778 - val_loss: 0.6531 - val_accuracy: 0.7890\n",
      "Epoch 10/20\n",
      "100/100 [==============================] - 1s 5ms/step - loss: 0.6464 - accuracy: 0.7850 - val_loss: 0.6290 - val_accuracy: 0.7990\n",
      "Epoch 11/20\n",
      "100/100 [==============================] - 0s 3ms/step - loss: 0.6267 - accuracy: 0.7942 - val_loss: 0.6219 - val_accuracy: 0.7990\n",
      "Epoch 12/20\n",
      "100/100 [==============================] - 0s 3ms/step - loss: 0.6116 - accuracy: 0.8008 - val_loss: 0.6053 - val_accuracy: 0.8090\n",
      "Epoch 13/20\n",
      "100/100 [==============================] - 0s 3ms/step - loss: 0.5956 - accuracy: 0.8024 - val_loss: 0.6132 - val_accuracy: 0.7960\n",
      "Epoch 14/20\n",
      "100/100 [==============================] - 0s 3ms/step - loss: 0.5834 - accuracy: 0.8040 - val_loss: 0.5862 - val_accuracy: 0.8070\n",
      "Epoch 15/20\n",
      "100/100 [==============================] - 0s 5ms/step - loss: 0.5736 - accuracy: 0.8090 - val_loss: 0.5747 - val_accuracy: 0.8150\n",
      "Epoch 16/20\n",
      "100/100 [==============================] - 1s 5ms/step - loss: 0.5624 - accuracy: 0.8140 - val_loss: 0.5646 - val_accuracy: 0.8260\n",
      "Epoch 17/20\n",
      "100/100 [==============================] - 0s 5ms/step - loss: 0.5543 - accuracy: 0.8140 - val_loss: 0.5578 - val_accuracy: 0.8240\n",
      "Epoch 18/20\n",
      "100/100 [==============================] - 0s 4ms/step - loss: 0.5440 - accuracy: 0.8146 - val_loss: 0.5601 - val_accuracy: 0.8160\n",
      "Epoch 19/20\n",
      "100/100 [==============================] - 0s 4ms/step - loss: 0.5356 - accuracy: 0.8200 - val_loss: 0.5433 - val_accuracy: 0.8190\n",
      "Epoch 20/20\n",
      "100/100 [==============================] - 0s 3ms/step - loss: 0.5265 - accuracy: 0.8248 - val_loss: 0.5355 - val_accuracy: 0.8320\n"
     ]
    }
   ],
   "source": [
    "# Create our model\n",
    "model = model_factory(hiddensizes, actfn, optimizer, learningrate)\n",
    "# Show summary info\n",
    "model.summary()\n",
    "# Train it  ####################################\n",
    "history = model.fit(X_train[:n_train], y_train[:n_train], epochs=n_epochs, validation_data=(X_val[:n_val], y_val[:n_val]), \n",
    "                    batch_size=batch_size)"
   ]
  },
  {
   "cell_type": "code",
   "execution_count": 24,
   "metadata": {},
   "outputs": [
    {
     "data": {
      "image/png": "[encoded data removed]",
      "text/plain": [
       "<Figure size 576x360 with 1 Axes>"
      ]
     },
     "metadata": {},
     "output_type": "display_data"
    }
   ],
   "source": [
    "# Plot the results (shifting validation curves appropriately)\n",
    "plt.figure(figsize=(8,5))\n",
    "plt.plot(np.arange(0,n_epochs),history.history['accuracy'], color='orange')\n",
    "plt.plot(np.arange(0,n_epochs),history.history['loss'],'b')\n",
    "plt.plot(np.arange(0,n_epochs)+0.5,history.history['val_accuracy'],'r')  # offset both validation curves\n",
    "plt.plot(np.arange(0,n_epochs)+0.5,history.history['val_loss'],'g')\n",
    "plt.legend(['Train Acc','Train Loss','Val Acc','Val Loss'])\n",
    "plt.grid(True)\n",
    "plt.gca().set_ylim(0, 1) # set the vertical range to [0-1] \n",
    "plt.show() "
   ]
  },
  {
   "cell_type": "code",
   "execution_count": 27,
   "metadata": {},
   "outputs": [
    {
     "name": "stdout",
     "output_type": "stream",
     "text": [
      "Best validation accuracy = 0.832\n",
      "Accuracy on all validation data = 0.820\n"
     ]
    }
   ],
   "source": [
    "# Display best accuracy on validation set\n",
    "max_val_acc = np.max(history.history['val_accuracy'])\n",
    "print(f'Best validation accuracy = {max_val_acc:.3f}')   # NB: .3f displays 3 decimal places\n",
    "# Evaluate on full validation dataset (or the test set if all tuning and selection is finished)\n",
    "valres = model.evaluate(X_val, y_val, verbose=0)\n",
    "print(f'Accuracy on all validation data = {valres[1]:.3f}')"
   ]
  },
  {
   "cell_type": "code",
   "execution_count": 28,
   "metadata": {},
   "outputs": [
    {
     "ename": "SyntaxError",
     "evalue": "invalid syntax (<ipython-input-28-af9e5670e708>, line 8)",
     "output_type": "error",
     "traceback": [
      "\u001b[1;36m  File \u001b[1;32m\"<ipython-input-28-af9e5670e708>\"\u001b[1;36m, line \u001b[1;32m8\u001b[0m\n\u001b[1;33m    history = model.fit(???[:n_train], ???[:n_train], epochs=n_epochs, validation_data=(X_val[:n_val], y_val[:n_val]),\u001b[0m\n\u001b[1;37m                        ^\u001b[0m\n\u001b[1;31mSyntaxError\u001b[0m\u001b[1;31m:\u001b[0m invalid syntax\n"
     ]
    }
   ],
   "source": [
    "# This function does everything: creates a model, trains it, then returns a performance measure\n",
    "# Note that I have been a bit lazy here in not passing in the data explicit (X_train, y_train, X_val, y_val)\n",
    "#  - this is generally bad practice, but makes this a little easier to see here as a learning exercise, but don't do this in practice\n",
    "def do_all(hiddensizes, actfn, optimizer, learningrate, n_train, n_val, n_epochs, batch_size):\n",
    "    # Create our model\n",
    "    model = model_factory(hiddensizes, actfn, optimizer, learningrate)\n",
    "    # Train it\n",
    "    history = model.fit(???[:n_train], ???[:n_train], epochs=n_epochs, validation_data=(X_val[:n_val], y_val[:n_val]), \n",
    "                        batch_size=batch_size)\n",
    "    max_val_acc = np.max(history.history['val_accuracy'])\n",
    "    return (max_val_acc, history)"
   ]
  },
  {
   "cell_type": "code",
   "execution_count": null,
   "metadata": {},
   "outputs": [],
   "source": [
    "# Use the previous function to allow us to select options for our Deep Learning model randomly and then see how that performs\n",
    "def random_model():\n",
    "    # Make some random selections to see how performance varies with network size and training set size\n",
    "    lsize=[10,100,1000]   # just have three options for layer sizes\n",
    "    # start with three candidate layers\n",
    "    hiddensizes = [lsize[np.random.randint(0,3)], lsize[np.random.randint(0,3)], lsize[np.random.randint(0,3)]]\n",
    "    # then keep between 1 and 3 layers\n",
    "    hiddensizes = hiddensizes[:np.random.randint(1,4)]\n",
    "    n_train = np.random.randint(1,10)*10**np.random.randint(2,4)  # numbers between 100 and 9000 (logarithmically selected)\n",
    "    n_epochs = 10  # to speed things up a bit (not recommended for proper evaluation)\n",
    "    # Now build, run and report\n",
    "    valacc, history = do_all(hiddensizes, actfn, optimizer, learningrate, n_train, n_val, n_epochs, batch_size)\n",
    "    print(f'Settings are: {(hiddensizes, actfn, optimizer, learningrate, n_train, n_val, n_epochs, batch_size)}')\n",
    "    print(f'Validation accuracy = {valacc:.3f}')\n",
    "    retval = [hiddensizes, valacc]\n",
    "    return retval"
   ]
  },
  {
   "cell_type": "code",
   "execution_count": null,
   "metadata": {},
   "outputs": [],
   "source": [
    "res = random_model()"
   ]
  },
  {
   "cell_type": "code",
   "execution_count": null,
   "metadata": {},
   "outputs": [],
   "source": [
    "print(res)"
   ]
  },
  {
   "cell_type": "markdown",
   "metadata": {},
   "source": [
    "## What to do now\n",
    "\n",
    " - Explore what differences these options make\n",
    " - Use the results to select a best model\n",
    " - Measure its performance on the test set\n",
    " - Compare it to the performance on the validation set"
   ]
  },
  {
   "cell_type": "code",
   "execution_count": null,
   "metadata": {},
   "outputs": [],
   "source": []
  }
 ],
 "metadata": {
  "kernelspec": {
   "display_name": "Python 3",
   "language": "python",
   "name": "python3"
  },
  "language_info": {
   "codemirror_mode": {
    "name": "ipython",
    "version": 3
   },
   "file_extension": ".py",
   "mimetype": "text/x-python",
   "name": "python",
   "nbconvert_exporter": "python",
   "pygments_lexer": "ipython3",
   "version": "3.8.8"
  }
 },
 "nbformat": 4,
 "nbformat_minor": 4
}
