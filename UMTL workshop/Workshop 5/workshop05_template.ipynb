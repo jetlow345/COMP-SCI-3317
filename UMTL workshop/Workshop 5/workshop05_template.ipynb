{
 "cells": [
  {
   "cell_type": "markdown",
   "metadata": {},
   "source": [
    "# Workshop 5\n",
    "\n",
    "Starter code for workshop 5. You should have seen most of it before, but make sure you understand what it is doing!"
   ]
  },
  {
   "cell_type": "code",
   "execution_count": 1,
   "metadata": {},
   "outputs": [],
   "source": [
    "# Common imports\n",
    "import sys\n",
    "import sklearn\n",
    "import numpy as np\n",
    "import os\n",
    "\n",
    "# To plot pretty figures\n",
    "%matplotlib inline\n",
    "import matplotlib as mpl\n",
    "import matplotlib.pyplot as plt\n",
    "mpl.rc('axes', labelsize=14)\n",
    "mpl.rc('xtick', labelsize=12)\n",
    "mpl.rc('ytick', labelsize=12)\n",
    "\n",
    "# To plot even prettier figures\n",
    "import seaborn as sn\n",
    "\n",
    "# General data handling (pure numerics are better in numpy)\n",
    "import pandas as pd"
   ]
  },
  {
   "cell_type": "code",
   "execution_count": 2,
   "metadata": {},
   "outputs": [],
   "source": [
    "from sklearn.datasets import load_breast_cancer\n",
    "# Get data\n",
    "data = load_breast_cancer()"
   ]
  },
  {
   "cell_type": "code",
   "execution_count": 3,
   "metadata": {},
   "outputs": [],
   "source": [
    "# Extract the features and target\n",
    "xarray = data.data\n",
    "yarray = data.target\n",
    "fullarray = np.concatenate((xarray,np.reshape(yarray,(-1,1))),axis=1)"
   ]
  },
  {
   "cell_type": "code",
   "execution_count": 4,
   "metadata": {},
   "outputs": [],
   "source": [
    "# Create a dataframe\n",
    "fullarray[:,-1] = 1 - fullarray[:,-1]   # now invert the labels (so that malignant=1)\n",
    "df = pd.DataFrame(fullarray,columns = list(data.feature_names) + ['target'])"
   ]
  },
  {
   "cell_type": "markdown",
   "metadata": {},
   "source": [
    "The code below is incomplete and will require some editing to work ..."
   ]
  },
  {
   "cell_type": "markdown",
   "metadata": {},
   "source": [
    "# Splitting into separate datasets"
   ]
  },
  {
   "cell_type": "code",
   "execution_count": 5,
   "metadata": {},
   "outputs": [],
   "source": [
    "from sklearn.model_selection import train_test_split\n",
    "\n",
    "# Split our dataset in train, val and test\n",
    "bigtrain_set, test_set = train_test_split(fullarray, test_size=0.2, random_state=42, stratify=fullarray[:,-1])\n",
    "train_set, val_set = train_test_split(bigtrain_set, test_size=0.25, random_state=42, stratify=bigtrain_set[:,-1])"
   ]
  },
  {
   "cell_type": "code",
   "execution_count": 6,
   "metadata": {},
   "outputs": [
    {
     "name": "stdout",
     "output_type": "stream",
     "text": [
      "Shapes are [(341, 30), (341,), (114, 30), (114,), (114, 30), (114,)]\n"
     ]
    }
   ],
   "source": [
    "# Check dimmensions of our dataset\n",
    "X_train = train_set[:,:-1]\n",
    "y_train = train_set[:,-1]\n",
    "X_test = test_set[:,:-1]\n",
    "y_test = test_set[:,-1]\n",
    "X_val = val_set[:,:-1]\n",
    "y_val = val_set[:,-1]\n",
    "print(f'Shapes are {[X_train.shape,y_train.shape,X_test.shape,y_test.shape,X_val.shape,y_val.shape]}')"
   ]
  },
  {
   "cell_type": "markdown",
   "metadata": {},
   "source": [
    "# Pipeline"
   ]
  },
  {
   "cell_type": "code",
   "execution_count": 7,
   "metadata": {},
   "outputs": [],
   "source": [
    "from sklearn.pipeline import Pipeline\n",
    "from sklearn.preprocessing import StandardScaler\n",
    "from sklearn.impute import SimpleImputer\n",
    "\n",
    "# Creatae a general pipeline to transform our data\n",
    "preproc_pl = Pipeline([ ('imputer', SimpleImputer(strategy=\"median\")), \n",
    "                        ('std_scaler', StandardScaler()) ])"
   ]
  },
  {
   "cell_type": "markdown",
   "metadata": {},
   "source": [
    "# SGD Classifier"
   ]
  },
  {
   "cell_type": "code",
   "execution_count": 8,
   "metadata": {},
   "outputs": [],
   "source": [
    "from sklearn.linear_model import SGDClassifier\n",
    "from sklearn.metrics import accuracy_score, hinge_loss\n",
    "import random\n",
    "\n",
    "# This function allows you to notice how SGD classifier works behind the scenes\n",
    "def sgdfn(nsamp, learnrate):\n",
    "    # We need to set a SGD classifier model. Important parameters:\n",
    "        # warm_start = True allows you to reuse previous solution to fit the initial parameter values\n",
    "        # eta0 = learnrate sets the learning rate\n",
    "        # learning_rate = 'contant' sets the same learning rate thorught all the iterations\n",
    "    sgd = SGDClassifier(warm_start=True, learning_rate='constant', eta0=learnrate) \n",
    "    # We preprocess our data\n",
    "    X_trainp = preproc_pl.fit_transform(X_train)\n",
    "    X_valp = preproc_pl.transform(X_val)\n",
    "    # Create a list to save results\n",
    "    res=[]\n",
    "\n",
    "    # We go do 1000 iterations\n",
    "    for n in range(2000):\n",
    "        # Select the sample with the size \"nsamp\"\n",
    "        sample = random.sample(range(0, X_train.shape[0]), nsamp)\n",
    "        # Train SGD with a part of the data. partial_fit perfoms one epoch over data\n",
    "        sgd.partial_fit(X_trainp[sample,:],y_train[sample],classes=[0,1])\n",
    "        # Make prediction\n",
    "        y_val_pred = sgd.predict(X_valp)\n",
    "        # Get accuracy\n",
    "        sgd_acc = accuracy_score(y_val,y_val_pred)\n",
    "        # Get the loss. Hinge loss is the default loss function\n",
    "        sgd_loss = hinge_loss(y_val,y_val_pred)\n",
    "        # Save results\n",
    "        res += [[sgd_acc,sgd_loss]]\n",
    "\n",
    "    # Create the result\n",
    "    res = np.array(res)\n",
    "\n",
    "    # Create the plot with results\n",
    "    plt.figure(figsize=(10,4))\n",
    "    plt.subplot(121)\n",
    "    plt.plot(res[:,0])\n",
    "    plt.title('Accuracy')\n",
    "    plt.xlabel('Epoch')\n",
    "    plt.subplot(122)\n",
    "    plt.plot(res[:,1])\n",
    "    plt.title('Loss')\n",
    "    plt.xlabel('Epoch')\n",
    "    plt.show()\n",
    "\n",
    "    print(\"The final accuracy is: \", res[-1,0])\n",
    "    print(\"The final loss is: \", res[-1,1])\n"
   ]
  },
  {
   "cell_type": "code",
   "execution_count": 9,
   "metadata": {},
   "outputs": [
    {
     "data": {
      "image/png": "[encoded data removed]",
      "text/plain": [
       "<Figure size 1000x400 with 2 Axes>"
      ]
     },
     "metadata": {},
     "output_type": "display_data"
    },
    {
     "name": "stdout",
     "output_type": "stream",
     "text": [
      "The final accuracy is:  0.9824561403508771\n",
      "The final loss is:  0.6403508771929824\n"
     ]
    }
   ],
   "source": [
    "# We can try different sample size\n",
    "ntrain = int(X_train.shape[0]*0.8)\n",
    "# Implement our function\n",
    "sgdfn(ntrain,0.00001)"
   ]
  },
  {
   "cell_type": "markdown",
   "metadata": {},
   "source": [
    "# Evaluating the best setting in test data"
   ]
  },
  {
   "cell_type": "code",
   "execution_count": 10,
   "metadata": {},
   "outputs": [
    {
     "name": "stdout",
     "output_type": "stream",
     "text": [
      "Validation and Test accuracies are: 0.9736842105263158 and 0.9736842105263158\n"
     ]
    }
   ],
   "source": [
    "# Create the final model \n",
    "sgd = SGDClassifier(learning_rate='constant', eta0=0.0001, \n",
    "                        early_stopping=False)   \n",
    "sgd_pipe = Pipeline([('preproc',preproc_pl),('sgd',sgd)])\n",
    "\n",
    "# Evaluate in validation\n",
    "sgd_pipe.fit(X_train,y_train)\n",
    "y_val_pred = sgd_pipe.predict(X_val)\n",
    "val_acc = accuracy_score(y_val, y_val_pred)\n",
    "\n",
    "# Evaluate in testing. Do you notice something interesting here? We are using train and val data to train\n",
    "sgd_pipe.fit(np.concatenate((X_train,X_val),axis=0),np.concatenate((y_train,y_val),axis=0))\n",
    "y_test_pred = sgd_pipe.predict(X_test)\n",
    "test_acc = accuracy_score(y_test, y_test_pred)\n",
    "\n",
    "print(f'Validation and Test accuracies are: {val_acc} and {test_acc}')"
   ]
  }
 ],
 "metadata": {
  "kernelspec": {
   "display_name": "Python 3",
   "language": "python",
   "name": "python3"
  },
  "language_info": {
   "codemirror_mode": {
    "name": "ipython",
    "version": 3
   },
   "file_extension": ".py",
   "mimetype": "text/x-python",
   "name": "python",
   "nbconvert_exporter": "python",
   "pygments_lexer": "ipython3",
   "version": "3.8.8"
  }
 },
 "nbformat": 4,
 "nbformat_minor": 4
}
