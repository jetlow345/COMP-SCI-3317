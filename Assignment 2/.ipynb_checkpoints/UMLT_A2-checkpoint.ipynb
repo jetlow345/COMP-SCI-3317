{
 "cells": [
  {
   "cell_type": "markdown",
   "metadata": {},
   "source": [
    "# Assignment 2: Classification\n",
    "# Using Machine Learning Tools CS3317\n",
    "\n",
    "## Overview\n",
    "\n",
    "In this assignment, you will apply some popular machine learning techniques to the problem of classifying data from histological cell images for the diagnosis of malignant breast cancer. This will be presented as a practical scenario where you are approached by a client to solve a problem.  \n",
    "\n",
    "The main aims of this assignment are: \n",
    "\n",
    "- to use the best practice machine learning workflow for producing a solution to a client's problem;\n",
    "- to visualise data and determine the best pre-processing;\n",
    "- to create the necessary datasets for training and testing purposes;\n",
    "- to train and optimise a selection of models, then choose the best;\n",
    "- to obtain an unbiased measurement of the final model's performance;\n",
    "- to interpret results clearly and concisely.\n",
    "\n",
    "This assignment relates to the following ACS CBOK areas: abstraction, design, hardware and software, data and information, HCI and programming.\n",
    "\n",
    "## General instructions\n",
    "\n",
    "This assignment is divided into several tasks. Use the spaces provided in this notebook to answer the questions posed in each task. Note that some questions require writing a small amount of code, some require graphical results. \n",
    "\n",
    "**Do not** manually edit the data set file we have provided! For marking purposes, it's important that your code runs correctly on the original data file.\n",
    "\n",
    "Some of the parts of this assignment build on the workflow from the first assignment and that part of the course, and so less detailed instructions are provided for this, as you should be able to implement this workflow now without low-level guidance. A substantial portion of the marks for this assignment are associated with making the right choices and executing this workflow correctly and efficiently.\n",
    "\n",
    "This assignment can be solved using methods from [sklearn](https://scikit-learn.org/stable/index.html), [pandas](https://pandas.pydata.org/pandas-docs/stable/index.html), and [matplotlib](https://matplotlib.org/stable/index.html) as presented in the workshops. **Other libraries should not be used** (even though they might have nice functionality) and certain restrictions on sklearn functions will be made clear in the instruction text. You are expected to search and carefully read the documentation for functions that you use, to ensure you are using them correctly."
   ]
  },
  {
   "cell_type": "markdown",
   "metadata": {},
   "source": [
    "# Scenario\n",
    "\n",
    "A client approaches you to solve a machine learning problem for them. They run a pathology lab that processes histological images for healthcare providers and they have created a product that measures the same features as in the *Wisconsin breast cancer data set* though using different acquisitions and processing methods. This makes their method much faster than existing ones, but it is also slightly noisier. The dataset contains measurements of several features that describe characteristics of cell nuclei present in digital images of breast tissue samples. These features include the mean, standard error, and \"worst\" (i.e., largest) values of measurements such as radius, texture, perimeter, area, smoothness, compactness, concavity, concave points, symmetry, and fractal dimension. Each feature is represented by a numeric value, and each data point represents a sample from either a malignant (cancerous) or benign (non-cancerous) breast tissue.\n",
    "\n",
    "The client want to be able to diagnose *malignant* cancer (and distinguish them from *benign* growths) by employing machine learning techniques, and they have asked you to implement this for them.\n",
    "\n",
    "Their requirements are:\n",
    " 1) have at least a 95% probability of detecting malignant cancer when it is present;\n",
    " 2) have no more than 1 in 10 healthy cases (those with benign tumours) labelled as positive (malignant).\n",
    " \n",
    "They have hand-labelled 300 samples for you, which is all they have at the moment.\n",
    "\n",
    "Please follow the instructions below, which will vary in level of detail, as appropriate to the marks given."
   ]
  },
  {
   "cell_type": "code",
   "execution_count": 1,
   "metadata": {
    "tags": []
   },
   "outputs": [],
   "source": [
    "# This code imports some libraries that you will need. \n",
    "# You should not need to modify it, though you are expected to make other imports later in your code.\n",
    "\n",
    "# Common imports\n",
    "import sys\n",
    "import numpy as np\n",
    "import time\n",
    "import pandas as pd\n",
    "import sklearn\n",
    "from sklearn import tree\n",
    "from sklearn import svm\n",
    "from sklearn.pipeline import Pipeline\n",
    "from sklearn.preprocessing import StandardScaler\n",
    "from sklearn.model_selection import GridSearchCV\n",
    "from sklearn.metrics import confusion_matrix\n",
    "import re\n",
    "\n",
    "# Plot setup\n",
    "import matplotlib as mpl\n",
    "import matplotlib.pyplot as plt\n",
    "import seaborn as sns\n",
    "mpl.rc('axes', labelsize=7)\n",
    "mpl.rc('xtick', labelsize=6)\n",
    "mpl.rc('ytick', labelsize=6)\n",
    "mpl.rc('figure', dpi=240)\n",
    "plt.close('all')"
   ]
  },
  {
   "cell_type": "markdown",
   "metadata": {},
   "source": [
    "**Step 1** [1 point]\n",
    "\n",
    "Load the dataset Do this from the csv file, `assignment2.csv`. Extract the feature names for use later on. The first column is our target and it contains the labels (benign and malignant). Note that we will be treating the _malignant_ case as our _positive_ case, as this is the standard convention in medicine."
   ]
  },
  {
   "cell_type": "code",
   "execution_count": 2,
   "metadata": {
    "tags": []
   },
   "outputs": [
    {
     "data": {
      "text/html": [
       "<div>\n",
       "<style scoped>\n",
       "    .dataframe tbody tr th:only-of-type {\n",
       "        vertical-align: middle;\n",
       "    }\n",
       "\n",
       "    .dataframe tbody tr th {\n",
       "        vertical-align: top;\n",
       "    }\n",
       "\n",
       "    .dataframe thead th {\n",
       "        text-align: right;\n",
       "    }\n",
       "</style>\n",
       "<table border=\"1\" class=\"dataframe\">\n",
       "  <thead>\n",
       "    <tr style=\"text-align: right;\">\n",
       "      <th></th>\n",
       "      <th>label</th>\n",
       "      <th>mean radius</th>\n",
       "      <th>mean texture</th>\n",
       "      <th>mean perimeter</th>\n",
       "      <th>mean area</th>\n",
       "      <th>mean smoothness</th>\n",
       "      <th>mean compactness</th>\n",
       "      <th>mean concavity</th>\n",
       "      <th>mean concave points</th>\n",
       "      <th>mean symmetry</th>\n",
       "      <th>...</th>\n",
       "      <th>worst radius</th>\n",
       "      <th>worst texture</th>\n",
       "      <th>worst perimeter</th>\n",
       "      <th>worst area</th>\n",
       "      <th>worst smoothness</th>\n",
       "      <th>worst compactness</th>\n",
       "      <th>worst concavity</th>\n",
       "      <th>worst concave points</th>\n",
       "      <th>worst symmetry</th>\n",
       "      <th>worst fractal dimension</th>\n",
       "    </tr>\n",
       "  </thead>\n",
       "  <tbody>\n",
       "    <tr>\n",
       "      <th>0</th>\n",
       "      <td>malignant</td>\n",
       "      <td>15.494654</td>\n",
       "      <td>15.902542</td>\n",
       "      <td>103.008265</td>\n",
       "      <td>776.437239</td>\n",
       "      <td>0.104239</td>\n",
       "      <td>0.168660</td>\n",
       "      <td>0.170572</td>\n",
       "      <td>0.085668</td>\n",
       "      <td>0.205053</td>\n",
       "      <td>...</td>\n",
       "      <td>19.522957</td>\n",
       "      <td>22.427276</td>\n",
       "      <td>135.128520</td>\n",
       "      <td>1286.903131</td>\n",
       "      <td>0.142725</td>\n",
       "      <td>0.407483</td>\n",
       "      <td>0.445992</td>\n",
       "      <td>0.171662</td>\n",
       "      <td>0.353211</td>\n",
       "      <td>0.097731</td>\n",
       "    </tr>\n",
       "    <tr>\n",
       "      <th>1</th>\n",
       "      <td>malignant</td>\n",
       "      <td>16.229871</td>\n",
       "      <td>18.785613</td>\n",
       "      <td>105.176755</td>\n",
       "      <td>874.712003</td>\n",
       "      <td>0.091843</td>\n",
       "      <td>0.092548</td>\n",
       "      <td>0.081681</td>\n",
       "      <td>0.053670</td>\n",
       "      <td>0.180435</td>\n",
       "      <td>...</td>\n",
       "      <td>19.140235</td>\n",
       "      <td>24.905156</td>\n",
       "      <td>123.886045</td>\n",
       "      <td>1234.499997</td>\n",
       "      <td>0.129135</td>\n",
       "      <td>0.223918</td>\n",
       "      <td>0.248846</td>\n",
       "      <td>0.136735</td>\n",
       "      <td>0.284427</td>\n",
       "      <td>0.085758</td>\n",
       "    </tr>\n",
       "    <tr>\n",
       "      <th>2</th>\n",
       "      <td>malignant</td>\n",
       "      <td>16.345671</td>\n",
       "      <td>20.114076</td>\n",
       "      <td>107.083804</td>\n",
       "      <td>872.563251</td>\n",
       "      <td>0.099924</td>\n",
       "      <td>0.123799</td>\n",
       "      <td>0.128788</td>\n",
       "      <td>0.078310</td>\n",
       "      <td>0.189756</td>\n",
       "      <td>...</td>\n",
       "      <td>19.144816</td>\n",
       "      <td>25.601433</td>\n",
       "      <td>125.113036</td>\n",
       "      <td>1202.749973</td>\n",
       "      <td>0.135017</td>\n",
       "      <td>0.314402</td>\n",
       "      <td>0.332505</td>\n",
       "      <td>0.161497</td>\n",
       "      <td>0.313038</td>\n",
       "      <td>0.084340</td>\n",
       "    </tr>\n",
       "    <tr>\n",
       "      <th>3</th>\n",
       "      <td>malignant</td>\n",
       "      <td>13.001009</td>\n",
       "      <td>19.876997</td>\n",
       "      <td>85.889775</td>\n",
       "      <td>541.281012</td>\n",
       "      <td>0.113423</td>\n",
       "      <td>0.173069</td>\n",
       "      <td>0.146214</td>\n",
       "      <td>0.069574</td>\n",
       "      <td>0.212078</td>\n",
       "      <td>...</td>\n",
       "      <td>15.565911</td>\n",
       "      <td>26.145119</td>\n",
       "      <td>102.958265</td>\n",
       "      <td>737.655082</td>\n",
       "      <td>0.161390</td>\n",
       "      <td>0.485912</td>\n",
       "      <td>0.430007</td>\n",
       "      <td>0.167254</td>\n",
       "      <td>0.432297</td>\n",
       "      <td>0.117705</td>\n",
       "    </tr>\n",
       "    <tr>\n",
       "      <th>4</th>\n",
       "      <td>malignant</td>\n",
       "      <td>16.416060</td>\n",
       "      <td>17.397533</td>\n",
       "      <td>107.857386</td>\n",
       "      <td>891.516818</td>\n",
       "      <td>0.097321</td>\n",
       "      <td>0.111530</td>\n",
       "      <td>0.125971</td>\n",
       "      <td>0.068575</td>\n",
       "      <td>0.179562</td>\n",
       "      <td>...</td>\n",
       "      <td>18.620376</td>\n",
       "      <td>22.306233</td>\n",
       "      <td>124.002529</td>\n",
       "      <td>1139.490971</td>\n",
       "      <td>0.133950</td>\n",
       "      <td>0.230996</td>\n",
       "      <td>0.316620</td>\n",
       "      <td>0.131715</td>\n",
       "      <td>0.269591</td>\n",
       "      <td>0.080497</td>\n",
       "    </tr>\n",
       "    <tr>\n",
       "      <th>...</th>\n",
       "      <td>...</td>\n",
       "      <td>...</td>\n",
       "      <td>...</td>\n",
       "      <td>...</td>\n",
       "      <td>...</td>\n",
       "      <td>...</td>\n",
       "      <td>...</td>\n",
       "      <td>...</td>\n",
       "      <td>...</td>\n",
       "      <td>...</td>\n",
       "      <td>...</td>\n",
       "      <td>...</td>\n",
       "      <td>...</td>\n",
       "      <td>...</td>\n",
       "      <td>...</td>\n",
       "      <td>...</td>\n",
       "      <td>...</td>\n",
       "      <td>...</td>\n",
       "      <td>...</td>\n",
       "      <td>...</td>\n",
       "      <td>...</td>\n",
       "    </tr>\n",
       "    <tr>\n",
       "      <th>295</th>\n",
       "      <td>benign</td>\n",
       "      <td>14.048464</td>\n",
       "      <td>17.186671</td>\n",
       "      <td>90.974271</td>\n",
       "      <td>637.474225</td>\n",
       "      <td>0.094969</td>\n",
       "      <td>0.091549</td>\n",
       "      <td>0.063532</td>\n",
       "      <td>0.039494</td>\n",
       "      <td>0.173324</td>\n",
       "      <td>...</td>\n",
       "      <td>15.790651</td>\n",
       "      <td>22.538529</td>\n",
       "      <td>103.423320</td>\n",
       "      <td>819.408970</td>\n",
       "      <td>0.126466</td>\n",
       "      <td>0.206701</td>\n",
       "      <td>0.192139</td>\n",
       "      <td>0.095350</td>\n",
       "      <td>0.287380</td>\n",
       "      <td>0.078520</td>\n",
       "    </tr>\n",
       "    <tr>\n",
       "      <th>296</th>\n",
       "      <td>benign</td>\n",
       "      <td>12.879033</td>\n",
       "      <td>16.767790</td>\n",
       "      <td>83.123369</td>\n",
       "      <td>539.225356</td>\n",
       "      <td>0.092146</td>\n",
       "      <td>0.083986</td>\n",
       "      <td>0.059347</td>\n",
       "      <td>0.035404</td>\n",
       "      <td>0.167690</td>\n",
       "      <td>...</td>\n",
       "      <td>14.358919</td>\n",
       "      <td>21.955513</td>\n",
       "      <td>93.620160</td>\n",
       "      <td>684.694077</td>\n",
       "      <td>0.118165</td>\n",
       "      <td>0.191978</td>\n",
       "      <td>0.180949</td>\n",
       "      <td>0.083989</td>\n",
       "      <td>0.263879</td>\n",
       "      <td>0.078279</td>\n",
       "    </tr>\n",
       "    <tr>\n",
       "      <th>297</th>\n",
       "      <td>malignant</td>\n",
       "      <td>13.123052</td>\n",
       "      <td>18.793057</td>\n",
       "      <td>84.897717</td>\n",
       "      <td>555.002209</td>\n",
       "      <td>0.098036</td>\n",
       "      <td>0.090178</td>\n",
       "      <td>0.066586</td>\n",
       "      <td>0.043711</td>\n",
       "      <td>0.172389</td>\n",
       "      <td>...</td>\n",
       "      <td>14.991646</td>\n",
       "      <td>24.820718</td>\n",
       "      <td>97.933068</td>\n",
       "      <td>726.695117</td>\n",
       "      <td>0.126203</td>\n",
       "      <td>0.201766</td>\n",
       "      <td>0.202433</td>\n",
       "      <td>0.100361</td>\n",
       "      <td>0.256863</td>\n",
       "      <td>0.079667</td>\n",
       "    </tr>\n",
       "    <tr>\n",
       "      <th>298</th>\n",
       "      <td>benign</td>\n",
       "      <td>14.411991</td>\n",
       "      <td>18.970674</td>\n",
       "      <td>93.423809</td>\n",
       "      <td>671.128126</td>\n",
       "      <td>0.086304</td>\n",
       "      <td>0.090118</td>\n",
       "      <td>0.070882</td>\n",
       "      <td>0.039482</td>\n",
       "      <td>0.175789</td>\n",
       "      <td>...</td>\n",
       "      <td>16.555187</td>\n",
       "      <td>25.591332</td>\n",
       "      <td>108.978466</td>\n",
       "      <td>893.818250</td>\n",
       "      <td>0.120338</td>\n",
       "      <td>0.246945</td>\n",
       "      <td>0.236415</td>\n",
       "      <td>0.105354</td>\n",
       "      <td>0.280900</td>\n",
       "      <td>0.081828</td>\n",
       "    </tr>\n",
       "    <tr>\n",
       "      <th>299</th>\n",
       "      <td>benign</td>\n",
       "      <td>12.704174</td>\n",
       "      <td>20.895143</td>\n",
       "      <td>82.227859</td>\n",
       "      <td>528.052132</td>\n",
       "      <td>0.098300</td>\n",
       "      <td>0.093698</td>\n",
       "      <td>0.068184</td>\n",
       "      <td>0.038141</td>\n",
       "      <td>0.178533</td>\n",
       "      <td>...</td>\n",
       "      <td>14.199113</td>\n",
       "      <td>25.377961</td>\n",
       "      <td>93.143286</td>\n",
       "      <td>681.453918</td>\n",
       "      <td>0.125313</td>\n",
       "      <td>0.195607</td>\n",
       "      <td>0.192059</td>\n",
       "      <td>0.085053</td>\n",
       "      <td>0.265963</td>\n",
       "      <td>0.078269</td>\n",
       "    </tr>\n",
       "  </tbody>\n",
       "</table>\n",
       "<p>300 rows × 31 columns</p>\n",
       "</div>"
      ],
      "text/plain": [
       "         label  mean radius  mean texture  mean perimeter   mean area  \\\n",
       "0    malignant    15.494654     15.902542      103.008265  776.437239   \n",
       "1    malignant    16.229871     18.785613      105.176755  874.712003   \n",
       "2    malignant    16.345671     20.114076      107.083804  872.563251   \n",
       "3    malignant    13.001009     19.876997       85.889775  541.281012   \n",
       "4    malignant    16.416060     17.397533      107.857386  891.516818   \n",
       "..         ...          ...           ...             ...         ...   \n",
       "295     benign    14.048464     17.186671       90.974271  637.474225   \n",
       "296     benign    12.879033     16.767790       83.123369  539.225356   \n",
       "297  malignant    13.123052     18.793057       84.897717  555.002209   \n",
       "298     benign    14.411991     18.970674       93.423809  671.128126   \n",
       "299     benign    12.704174     20.895143       82.227859  528.052132   \n",
       "\n",
       "     mean smoothness  mean compactness  mean concavity  mean concave points  \\\n",
       "0           0.104239          0.168660        0.170572             0.085668   \n",
       "1           0.091843          0.092548        0.081681             0.053670   \n",
       "2           0.099924          0.123799        0.128788             0.078310   \n",
       "3           0.113423          0.173069        0.146214             0.069574   \n",
       "4           0.097321          0.111530        0.125971             0.068575   \n",
       "..               ...               ...             ...                  ...   \n",
       "295         0.094969          0.091549        0.063532             0.039494   \n",
       "296         0.092146          0.083986        0.059347             0.035404   \n",
       "297         0.098036          0.090178        0.066586             0.043711   \n",
       "298         0.086304          0.090118        0.070882             0.039482   \n",
       "299         0.098300          0.093698        0.068184             0.038141   \n",
       "\n",
       "     mean symmetry  ...  worst radius  worst texture  worst perimeter  \\\n",
       "0         0.205053  ...     19.522957      22.427276       135.128520   \n",
       "1         0.180435  ...     19.140235      24.905156       123.886045   \n",
       "2         0.189756  ...     19.144816      25.601433       125.113036   \n",
       "3         0.212078  ...     15.565911      26.145119       102.958265   \n",
       "4         0.179562  ...     18.620376      22.306233       124.002529   \n",
       "..             ...  ...           ...            ...              ...   \n",
       "295       0.173324  ...     15.790651      22.538529       103.423320   \n",
       "296       0.167690  ...     14.358919      21.955513        93.620160   \n",
       "297       0.172389  ...     14.991646      24.820718        97.933068   \n",
       "298       0.175789  ...     16.555187      25.591332       108.978466   \n",
       "299       0.178533  ...     14.199113      25.377961        93.143286   \n",
       "\n",
       "      worst area  worst smoothness  worst compactness  worst concavity  \\\n",
       "0    1286.903131          0.142725           0.407483         0.445992   \n",
       "1    1234.499997          0.129135           0.223918         0.248846   \n",
       "2    1202.749973          0.135017           0.314402         0.332505   \n",
       "3     737.655082          0.161390           0.485912         0.430007   \n",
       "4    1139.490971          0.133950           0.230996         0.316620   \n",
       "..           ...               ...                ...              ...   \n",
       "295   819.408970          0.126466           0.206701         0.192139   \n",
       "296   684.694077          0.118165           0.191978         0.180949   \n",
       "297   726.695117          0.126203           0.201766         0.202433   \n",
       "298   893.818250          0.120338           0.246945         0.236415   \n",
       "299   681.453918          0.125313           0.195607         0.192059   \n",
       "\n",
       "     worst concave points  worst symmetry  worst fractal dimension  \n",
       "0                0.171662        0.353211                 0.097731  \n",
       "1                0.136735        0.284427                 0.085758  \n",
       "2                0.161497        0.313038                 0.084340  \n",
       "3                0.167254        0.432297                 0.117705  \n",
       "4                0.131715        0.269591                 0.080497  \n",
       "..                    ...             ...                      ...  \n",
       "295              0.095350        0.287380                 0.078520  \n",
       "296              0.083989        0.263879                 0.078279  \n",
       "297              0.100361        0.256863                 0.079667  \n",
       "298              0.105354        0.280900                 0.081828  \n",
       "299              0.085053        0.265963                 0.078269  \n",
       "\n",
       "[300 rows x 31 columns]"
      ]
     },
     "execution_count": 2,
     "metadata": {},
     "output_type": "execute_result"
    }
   ],
   "source": [
    "data = pd.read_csv(\"assignment2.csv\")\n",
    "\n",
    "feature_names = data.columns[1:]\n",
    "\n",
    "# The following code is used by the autograder\n",
    "# make sure your variable that contains the answer from this step is the one assigned to step1_1data\n",
    "step1_data = data.copy()\n",
    "\n",
    "step1_data"
   ]
  },
  {
   "cell_type": "markdown",
   "metadata": {},
   "source": [
    "<!-- BEGIN QUESTION -->\n",
    "\n",
    "**Step 2** [3 points]\n",
    "\n",
    "As this data is well curated by the client already, you do not need to worry about outliers, missing values or imputation in this case, but be aware that this is the exception, not the rule.\n",
    "\n",
    "To familiarise yourself with the nature and information contained in the data, display histograms for the data according to the following instructions:\n",
    " - Isolate each group of features (mean, standard error, and worst) into its own DataFrame.\n",
    " - you are provided with code to display histograms for each feature in the _mean_ group. On _each_ histogram the two classes displayed together in one plot \n",
    " - **repeat this** for the _standard error_ and _worst_ groups; \n",
    "\n",
    "**Based on the histograms and using the function *corr()* or *numpy corrcoef()* which do you think are the 3 strongest features for discriminating between the classes?**"
   ]
  },
  {
   "cell_type": "code",
   "execution_count": 3,
   "metadata": {
    "scrolled": true,
    "tags": []
   },
   "outputs": [
    {
     "data": {
      "image/png": "[encoded data removed]",
      "text/plain": [
       "<Figure size 2880x1920 with 10 Axes>"
      ]
     },
     "metadata": {
      "needs_background": "light"
     },
     "output_type": "display_data"
    },
    {
     "name": "stdout",
     "output_type": "stream",
     "text": [
      "the correlation between label and label is : 1.0\n",
      "the correlation between mean radius and label is : 0.6983230172870837\n",
      "the correlation between mean texture and label is : 0.47815103343578635\n",
      "the correlation between mean perimeter and label is : 0.710966619575189\n",
      "the correlation between mean area and label is : 0.6647191230766264\n",
      "the correlation between mean smoothness and label is : 0.3490228171444249\n",
      "the correlation between mean compactness and label is : 0.5718381812629333\n",
      "the correlation between mean concavity and label is : 0.6235500131711267\n",
      "the correlation between mean concave points and label is : 0.729886148029009\n",
      "the correlation between mean symmetry and label is : 0.30623862475163777\n",
      "the correlation between mean fractal dimension and label is : 0.005676309009779706\n",
      "the correlation between radius error and label is : 0.5067868278116487\n",
      "the correlation between texture error and label is : -0.04599662691514401\n",
      "the correlation between perimeter error and label is : 0.5039227496644199\n",
      "the correlation between area error and label is : 0.5080860254193683\n",
      "the correlation between smoothness error and label is : -0.09447225845895066\n",
      "the correlation between compactness error and label is : 0.24665238695923714\n",
      "the correlation between concavity error and label is : 0.1577803319623499\n",
      "the correlation between concave points error and label is : 0.31647155384697445\n",
      "the correlation between symmetry error and label is : -0.060779396893268264\n",
      "the correlation between fractal dimension error and label is : 0.029921521146113624\n",
      "the correlation between worst radius and label is : 0.7557034732865655\n",
      "the correlation between worst texture and label is : 0.5108007756446472\n",
      "the correlation between worst perimeter and label is : 0.7640329847142046\n",
      "the correlation between worst area and label is : 0.7059864856986983\n",
      "the correlation between worst smoothness and label is : 0.43596903246811386\n",
      "the correlation between worst compactness and label is : 0.5880248439324939\n",
      "the correlation between worst concavity and label is : 0.6225367128257274\n",
      "the correlation between worst concave points and label is : 0.7785746201123283\n",
      "the correlation between worst symmetry and label is : 0.42078668082993975\n",
      "the correlation between worst fractal dimension and label is : 0.350320719777641\n"
     ]
    },
    {
     "data": {
      "text/plain": [
       "['worst radius', 'worst concave points', 'worst perimeter']"
      ]
     },
     "execution_count": 3,
     "metadata": {},
     "output_type": "execute_result"
    }
   ],
   "source": [
    "# Separate the mean, standard error, and worst groups into separate dataframes\n",
    "mean_group = step1_data.iloc[:,[1,2,3,4,5,6,7,8,9,10]]\n",
    "error_group = step1_data.iloc[:,[11,12,13,14,15,16,17,18,19,20]]\n",
    "worst_group = step1_data.iloc[:, [21,22,23,24,25,26,27,28,29,30]]\n",
    "\n",
    "# mean_group\n",
    "# error_group\n",
    "# worst_group\n",
    "\n",
    "#  You can comment out the plotting code before uploading it to gradescope for faster evaluation\n",
    "class_labels = ['benign', 'malignant'] \n",
    "fig = plt.figure(figsize=(12, 8))  \n",
    "\n",
    "# Plot the histograms for each feature in the mean group with both classes displayed together\n",
    "for i, feature in enumerate(mean_group.columns):  \n",
    "    plt.subplot(3, 4, i+1)  \n",
    "    plt.hist([mean_group[feature][data['label'] == 'benign'], mean_group[feature]\n",
    "             [data['label'] == 'malignant']], label=class_labels)  \n",
    "    plt.xlabel(\"Feature Value\")  \n",
    "    plt.ylabel(\"Frequency\")  \n",
    "    plt.legend()\n",
    "    plt.title(feature)  \n",
    "\n",
    "plt.tight_layout()  \n",
    "plt.show()\n",
    "\n",
    "data['label'].replace(['benign', 'malignant'], [0, 1], inplace = True)\n",
    "\n",
    "for cal_col in data.columns:\n",
    "    correlation = data[cal_col].corr(data['label'])\n",
    "    print(f'the correlation between {cal_col} and label is : {correlation}')\n",
    "\n",
    "\n",
    "# ranked_features = [\"Feature1 name\", \"Feature2 name\", \"Feature3 name\"] \n",
    "ranked_features = [\"worst radius\", \"worst concave points\", \"worst perimeter\"]\n",
    "\n",
    "# The following code is used by the autograder\n",
    "step2_data = ranked_features\n",
    "\n",
    "step2_data"
   ]
  },
  {
   "cell_type": "markdown",
   "metadata": {},
   "source": [
    "<!-- END QUESTION -->\n",
    "\n",
    "**Step3** [3 points]\n",
    "\n",
    "Convert the labels into 0s and 1s so that benign is represented by 0 and malignant is represented by 1.\n",
    "\n",
    "Split the dataset into appropriate subsets for training, validation and test sets. You must choose the size of each subset. However, make sure that the proportion of the two classes is consistent across all datasets using the _stratify_ option, as used in workshops 5 and 6. Verify the size and label distribution in each dataset."
   ]
  },
  {
   "cell_type": "code",
   "execution_count": 4,
   "metadata": {
    "tags": []
   },
   "outputs": [
    {
     "name": "stdout",
     "output_type": "stream",
     "text": [
      "[(180, 30), (180,), (60, 30), (60,), (60, 30), (60,)]\n",
      "Training set size: 180\n",
      "Validation set size: 60\n",
      "Test set size: 60\n"
     ]
    }
   ],
   "source": [
    "from sklearn.model_selection import train_test_split\n",
    "\n",
    "# Convert labels to 0 (benign) and 1 (malignant)\n",
    "\n",
    "# Split dataset into training, validation, and test sets\n",
    "\n",
    "bigtrain_set, test_set = train_test_split(data, test_size = 0.2, random_state = 42, stratify = data.iloc[:, 0])\n",
    "train_set, val_set = train_test_split(bigtrain_set, test_size = 0.25, random_state = 42, stratify = bigtrain_set.iloc[:, 0])\n",
    "\n",
    "X_train = train_set.iloc[:,1:]\n",
    "y_train = train_set.iloc[:,0]\n",
    "X_test = test_set.iloc[:,1:]\n",
    "y_test = test_set.iloc[:,0]\n",
    "X_val = val_set.iloc[:,1:]\n",
    "y_val = val_set.iloc[:,0]\n",
    "print([X_train.shape,y_train.shape,X_test.shape,y_test.shape,X_val.shape,y_val.shape])\n",
    "\n",
    "# Print the size of each resulting subset\n",
    "print(\"Training set size:\", len(X_train))\n",
    "print(\"Validation set size:\", len(X_val))\n",
    "print(\"Test set size:\", len(X_test))\n",
    "\n",
    "# The following code is used by the autograder\n",
    "step3_data = [len(X_train) , len(X_val) , len(X_test)]"
   ]
  },
  {
   "cell_type": "markdown",
   "metadata": {},
   "source": [
    "**Step4** [4 points]\n",
    "\n",
    "Baseline measurements \n",
    "\n",
    "For our classification task we will consider **three simple baseline cases**:\n",
    "1) predicting all samples to be negative (class 1)\n",
    "2) predicting all samples to be positive (class 2)\n",
    "3) making a random prediction for each sample with equal probability for each class "
   ]
  },
  {
   "cell_type": "code",
   "execution_count": 5,
   "metadata": {
    "tags": []
   },
   "outputs": [
    {
     "data": {
      "text/plain": [
       "[array([0., 0., 0., 0., 0., 0., 0., 0., 0., 0., 0., 0., 0., 0., 0., 0., 0.,\n",
       "        0., 0., 0., 0., 0., 0., 0., 0., 0., 0., 0., 0., 0., 0., 0., 0., 0.,\n",
       "        0., 0., 0., 0., 0., 0., 0., 0., 0., 0., 0., 0., 0., 0., 0., 0., 0.,\n",
       "        0., 0., 0., 0., 0., 0., 0., 0., 0., 0., 0., 0., 0., 0., 0., 0., 0.,\n",
       "        0., 0., 0., 0., 0., 0., 0., 0., 0., 0., 0., 0., 0., 0., 0., 0., 0.,\n",
       "        0., 0., 0., 0., 0., 0., 0., 0., 0., 0., 0., 0., 0., 0., 0., 0., 0.,\n",
       "        0., 0., 0., 0., 0., 0., 0., 0., 0., 0., 0., 0., 0., 0., 0., 0., 0.,\n",
       "        0., 0., 0., 0., 0., 0., 0., 0., 0., 0., 0., 0., 0., 0., 0., 0., 0.,\n",
       "        0., 0., 0., 0., 0., 0., 0., 0., 0., 0., 0., 0., 0., 0., 0., 0., 0.,\n",
       "        0., 0., 0., 0., 0., 0., 0., 0., 0., 0., 0., 0., 0., 0., 0., 0., 0.,\n",
       "        0., 0., 0., 0., 0., 0., 0., 0., 0., 0.]),\n",
       " array([1., 1., 1., 1., 1., 1., 1., 1., 1., 1., 1., 1., 1., 1., 1., 1., 1.,\n",
       "        1., 1., 1., 1., 1., 1., 1., 1., 1., 1., 1., 1., 1., 1., 1., 1., 1.,\n",
       "        1., 1., 1., 1., 1., 1., 1., 1., 1., 1., 1., 1., 1., 1., 1., 1., 1.,\n",
       "        1., 1., 1., 1., 1., 1., 1., 1., 1., 1., 1., 1., 1., 1., 1., 1., 1.,\n",
       "        1., 1., 1., 1., 1., 1., 1., 1., 1., 1., 1., 1., 1., 1., 1., 1., 1.,\n",
       "        1., 1., 1., 1., 1., 1., 1., 1., 1., 1., 1., 1., 1., 1., 1., 1., 1.,\n",
       "        1., 1., 1., 1., 1., 1., 1., 1., 1., 1., 1., 1., 1., 1., 1., 1., 1.,\n",
       "        1., 1., 1., 1., 1., 1., 1., 1., 1., 1., 1., 1., 1., 1., 1., 1., 1.,\n",
       "        1., 1., 1., 1., 1., 1., 1., 1., 1., 1., 1., 1., 1., 1., 1., 1., 1.,\n",
       "        1., 1., 1., 1., 1., 1., 1., 1., 1., 1., 1., 1., 1., 1., 1., 1., 1.,\n",
       "        1., 1., 1., 1., 1., 1., 1., 1., 1., 1.]),\n",
       " array([1, 0, 0, 0, 1, 0, 0, 1, 0, 0, 1, 1, 1, 0, 0, 0, 1, 1, 1, 1, 0, 0,\n",
       "        1, 0, 1, 0, 0, 0, 0, 1, 1, 1, 1, 0, 0, 1, 1, 1, 1, 0, 1, 1, 1, 1,\n",
       "        1, 0, 1, 1, 1, 1, 1, 0, 1, 0, 1, 0, 0, 1, 1, 0, 0, 0, 0, 0, 0, 0,\n",
       "        1, 1, 1, 1, 1, 0, 1, 0, 1, 1, 1, 1, 1, 1, 0, 1, 0, 1, 0, 0, 0, 0,\n",
       "        1, 0, 1, 0, 1, 0, 0, 0, 1, 1, 1, 1, 1, 1, 1, 0, 0, 1, 0, 0, 0, 1,\n",
       "        0, 0, 1, 1, 0, 0, 1, 1, 1, 1, 1, 1, 1, 1, 1, 0, 1, 1, 1, 1, 1, 1,\n",
       "        0, 1, 1, 0, 1, 0, 1, 0, 0, 1, 1, 1, 0, 0, 1, 1, 0, 0, 1, 0, 0, 0,\n",
       "        1, 1, 0, 1, 1, 0, 0, 0, 0, 0, 1, 0, 1, 0, 0, 0, 1, 0, 0, 1, 0, 1,\n",
       "        0, 1, 0, 1])]"
      ]
     },
     "execution_count": 5,
     "metadata": {},
     "output_type": "execute_result"
    }
   ],
   "source": [
    "# create arrays to hold the predicted labels for each baseline case\n",
    "baseline1_preds = np.zeros(len(y_train))\n",
    "baseline2_preds = np.ones(len(y_train))\n",
    "baseline3_preds = np.random.randint(2, size = len(y_train))\n",
    "\n",
    "# The following code is used by the autograder.\n",
    "step4_data = [baseline1_preds, baseline2_preds, baseline3_preds] \n",
    "\n",
    "step4_data"
   ]
  },
  {
   "cell_type": "markdown",
   "metadata": {},
   "source": [
    "**Step5** [2 points]\n",
    "\n",
    "Write a function that returns the following metrics for all baseline measures created in Step4, use the function and print the metrics:\n",
    "\n",
    " - recall\n",
    " - precision\n",
    " - auc\n",
    " - f1score"
   ]
  },
  {
   "cell_type": "code",
   "execution_count": 6,
   "metadata": {
    "tags": []
   },
   "outputs": [],
   "source": [
    "# from sklearn import metrics\n",
    "from sklearn.metrics import recall_score, precision_score, roc_auc_score, f1_score, auc, roc_auc_score\n",
    "\n",
    "def calculate_metrics(y_true, y_pred):   \n",
    "    rec = recall_score(y_true, y_pred)\n",
    "#     print(\"Recall: \"+ str(rec))\n",
    "    prec = precision_score(y_true, y_pred)\n",
    "#     print(\"Precision: \" + str(prec))\n",
    "    auc = roc_auc_score(y_true, y_pred)\n",
    "#     print(\"AUC: \" + str(auc))\n",
    "    f1 = f1_score(y_true, y_pred)\n",
    "#     print(\"F1: \" + str(f1))\n",
    "    \n",
    "    return rec, prec, auc, f1\n",
    "\n",
    "# The following code is used by the autograder.\n",
    "step5_data = calculate_metrics\n",
    "\n",
    "# print(\"Negative case:\")\n",
    "# print(calculate_metrics(y_val, baseline1_preds))\n",
    "\n",
    "# print(\"Positive case:\")\n",
    "# print(calculate_metrics(y_val, baseline2_preds))\n",
    "\n",
    "# print(\"Mixed case:\")\n",
    "# print(calculate_metrics(y_val, baseline3_preds))"
   ]
  },
  {
   "cell_type": "markdown",
   "metadata": {},
   "source": [
    "**Step6** [3 points]\n",
    "\n",
    "Create a function which takes in the true labels and the predictions and returns the following parameters:\n",
    "\n",
    "* Number of True Positives (TP)\n",
    "* Number of True Negatives (TN)\n",
    "* Number of False Positive (FP)\n",
    "* Number of False Negative (FN)"
   ]
  },
  {
   "cell_type": "code",
   "execution_count": 7,
   "metadata": {
    "tags": []
   },
   "outputs": [],
   "source": [
    "# This function returns the number of TP, TN, FP, FN.\n",
    "def get_values(y_true, y_pred):\n",
    "    tp = 0\n",
    "    tn = 0\n",
    "    fp = 0\n",
    "    fn = 0\n",
    "    \n",
    "    for i in range(len(y_pred)): \n",
    "        if y_true[i]==y_pred[i]==1:\n",
    "            tp += 1\n",
    "        if y_pred[i]==1 and y_true[i]!=y_pred[i]:\n",
    "            fp += 1\n",
    "        if y_true[i]==y_pred[i]==0:\n",
    "            tn += 1\n",
    "        if y_pred[i]==0 and y_true[i]!=y_pred[i]:\n",
    "            fn += 1\n",
    "\n",
    "    return tp, tn, fp, fn\n",
    "\n",
    "# The following code is used by the autograder.\n",
    "step6_data = get_values"
   ]
  },
  {
   "cell_type": "code",
   "execution_count": 8,
   "metadata": {},
   "outputs": [],
   "source": [
    "from sklearn.metrics import confusion_matrix\n",
    "import seaborn as sn\n",
    "\n",
    "# # This function returns the number of TP, TN, FP, FN.\n",
    "def get_values(y_true, y_pred):\n",
    "    cmat = confusion_matrix(y_true, y_pred)\n",
    "    tp = cmat[0][0] \n",
    "    tn = cmat[1][0]\n",
    "    fp = cmat[1][1]\n",
    "    fn = cmat[0][1]\n",
    "    sn.heatmap(cmat,annot=True)\n",
    "    plt.xlabel('Predicted')\n",
    "    plt.ylabel('True')\n",
    "    plt.title('Confusion Matrix')\n",
    "    plt.show()\n",
    "    \n",
    "# print(get_values(y_val, baseline1_preds))\n",
    "# print(get_values(y_val, baseline2_preds))\n",
    "# print(get_values(y_val, baseline3_preds))"
   ]
  },
  {
   "cell_type": "markdown",
   "metadata": {},
   "source": [
    "**Step7 [3 points]**\n",
    "\n",
    "Based on the above baseline tests and the client's requirements, **choose a performance metric** to use for evaluating/driving your machine learning methods.\n",
    "\n",
    "Choose the best metric of the five and assign to the variable below.\n",
    "* For AUC, use \"roc_auc\"\n",
    "* For recall, use \"recall\"\n",
    "* For precision, use \"precision\"\n",
    "* For F1 Score, use \"f1\"\n",
    "\n",
    "***NOTE:*** Not all the metrics are equally useful for meeting the requirements of the client, thereby, choose only the one most suitable metric."
   ]
  },
  {
   "cell_type": "code",
   "execution_count": 9,
   "metadata": {
    "tags": []
   },
   "outputs": [],
   "source": [
    "# Choose the best metric of the five and assign to the variable below. The variable takes a string.\n",
    "chosen_metric = \"f1\"\n",
    "\n",
    "# The following code is used by the autograder\n",
    "step7_data = chosen_metric"
   ]
  },
  {
   "cell_type": "markdown",
   "metadata": {},
   "source": [
    "**Step8** [3 points]\n",
    "\n",
    "**Creating a SGD baseline**\n",
    "\n",
    "For a stronger baseline, **train the Stochastic Gradient Descent classifier (SGD) model** on the training data and evaluate it on the validation data (as seen in workshop 4). Use a Pipeline for this which considers the preprocessing and the SGD model. For this baseline case use the default settings for all the hyperparameters."
   ]
  },
  {
   "cell_type": "markdown",
   "metadata": {},
   "source": [
    "Build a pre-processing pipeline that includes imputation (as even though we don't strictly need it here it is a good habit to always include it) and other appropriate pre-processing. Create another pipeline for the SGD model which has preprocessing pipeline as the pre-processing part. Train the model and evaluate it on the validation data.   "
   ]
  },
  {
   "cell_type": "code",
   "execution_count": 10,
   "metadata": {
    "tags": []
   },
   "outputs": [],
   "source": [
    "# from sklearn.linear_model import SGDClassifier\n",
    "# from sklearn.pipeline import Pipeline\n",
    "# from sklearn.preprocessing import StandardScaler\n",
    "# from sklearn.impute import SimpleImputer\n",
    "# from sklearn.metrics import accuracy_score\n",
    "\n",
    "# # Create pre-processing pipeline\n",
    "# preproc_pl = Pipeline([('imputer', SimpleImputer(strategy=\"median\")), \n",
    "#                           ('stdscaler', StandardScaler())])\n",
    "\n",
    "# # Create SGD model pipeline which has preproc_pl as the pre-processing part\n",
    "# sgd_base = Pipeline([ ('preproc',preproc_pl), ('sgd',SGDClassifier(loss='log_loss'))])\n",
    "\n",
    "# # fit the SGD pipeline on the training data\n",
    "# sgd_base.fit(X_train,y_train)\n",
    "\n",
    "# # print(sgd_base.score(X_val, y_val))\n",
    "\n",
    "# # evaluate on the validation data\n",
    "# y_val_pred = sgd_base.predict(X_val)\n",
    "# # y_val_prob = sgd_base.predict_proba(X_val)\n",
    "\n",
    "# # val_accuracy = accuracy_score(y_val, y_val_pred)\n",
    "# # print(f'Validation are: {val_accuracy}')\n",
    "\n",
    "\n",
    "# # The following code is used by the autograder.\n",
    "# step8_data = sgd_base"
   ]
  },
  {
   "cell_type": "markdown",
   "metadata": {},
   "source": [
    "**Step9** [2 points]\n",
    "\n",
    "On the validation data, calculate and print or display the **normalized** version of the confusion matrix.  Given the normalized confusion matrix, **what is the _probability_ that a sample from a person with a malignant tumour is given a result that they do not have cancer?  Which of the client's two criteria does this relate to, and is this baseline satisfying this criterion or not?**"
   ]
  },
  {
   "cell_type": "markdown",
   "metadata": {},
   "source": [
    "1) have at least a 95% probability of detecting malignant cancer when it is present; 2) have no more than 1 in 10 healthy cases (those with benign tumours) labelled as positive (malignant)."
   ]
  },
  {
   "cell_type": "code",
   "execution_count": 11,
   "metadata": {
    "tags": []
   },
   "outputs": [],
   "source": [
    "# # Put your confusion matrix here\n",
    "# cmat = confusion_matrix(y_val, y_val_pred, normalize = \"true\")\n",
    "\n",
    "# # Display or print cmat\n",
    "# print(cmat)\n",
    "# # sn.heatmap(cmat,annot=True)\n",
    "# # plt.xlabel('Predicted')\n",
    "# # plt.ylabel('True')\n",
    "# # plt.title('SGD Confusion matrix')\n",
    "# # plt.show()\n",
    "\n",
    "# # Assign the required probability to the variable below\n",
    "# required_prob = cmat[1,0]\n",
    "\n",
    "# # Choose which of the client's two criteria does this relate to (1 or 2)\n",
    "# criteria = 1\n",
    "\n",
    "# # Does the baseline model satisfy this criterion? (\"YES\" or \"NO\")\n",
    "# satisfy = \"NO\"\n",
    "    \n",
    "# # The following code is used by the autograder.\n",
    "# step9_data = cmat, required_prob"
   ]
  },
  {
   "cell_type": "markdown",
   "metadata": {},
   "source": [
    "### Main classifier \n",
    "\n",
    "In this part, you need to try different models for classification, check their performance and determine the best for the present scenario.\n",
    "\n",
    "Follow best practice as much as possible here. You must make all the choices and decisions yourself, and strike a balance between computation time and performance.\n",
    "\n",
    "You can use any of the sklearn functions used in workshops 3, 4, 5 and 6. Other hyper-parameter optimisation functions apart from these cannot be used (even if they are good and can be part of best practice in other situations - for this assignment everyone should assume they only have very limited computation resources and limit themselves to these functions). Hint: Use **GridSearchCV** to solve these steps.\n",
    "\n",
    "**Display the performance of the different classifiers and the optimised hyperparameters.**\n"
   ]
  },
  {
   "cell_type": "markdown",
   "metadata": {},
   "source": [
    "**Step10** [3 point]\n",
    "\n",
    "**Train and optimise the hyperparameters** to give the best performance for a **KNN (K-Nearest Neighbour)** classifier. For this model consider and  evaluate the following parameters:\n",
    "\n",
    "* n_neighbors (with no value greater than 20)\n",
    "* weights\n",
    "* algorithm\n",
    "* metric\n",
    "* p (with no value greater than 20)\n",
    "\n",
    "Read the documentation about this model to find some proper ranges and ensure that you use the pipeline created in Step8 to train this model. How to decide what are the best setting of parameters? -> use the best metric identified in the **Step7**."
   ]
  },
  {
   "cell_type": "code",
   "execution_count": 12,
   "metadata": {
    "tags": []
   },
   "outputs": [],
   "source": [
    "# # Write your solution here\n",
    "# from sklearn.neighbors import KNeighborsClassifier\n",
    "\n",
    "# # Put the pipeline with the appropriate model \n",
    "# knn_pl = Pipeline([('pipeline', preproc_pl),('knn', KNeighborsClassifier())])\n",
    "\n",
    "# parameters_knn = {'knn__n_neighbors': [4,8,10,15], \n",
    "#                   'knn__weights': ['uniform', 'distance'], \n",
    "#                   'knn__algorithm': ['auto', 'ball_tree', 'kd_tree', 'brute'], \n",
    "#                   'knn__metric': ['euclidean', 'l1', 'l2', 'manhattan'], \n",
    "#                   'knn__p': [1,5,10,15] }\n",
    "\n",
    "# # Use GridSearchCV here with cv=5\n",
    "# knn_model = GridSearchCV(estimator = knn_pl, param_grid = parameters_knn, cv = 5, scoring = 'accuracy', return_train_score=True)\n",
    "\n",
    "# # Fit the GridSearchCV objects to the training data\n",
    "# knn_model.fit(X_train, y_train)\n",
    "\n",
    "# # knn_model.best_params_ = {'n_neighbors': 4, \n",
    "# #                       'weights': 'distance', \n",
    "# #                       'algorithm': 'auto', \n",
    "# #                       'metric': 'euclidean', \n",
    "# #                       'p': 1}\n",
    "\n",
    "\n",
    "# print(f'knn_best_parameters : {knn_model.best_params_}') \n",
    "\n",
    "# # Return best parameters in a dictionary\n",
    "# knn_best_parameters = knn_model.best_params_\n",
    "\n",
    "# # Return best score\n",
    "# knn_best_score = knn_model.best_score_\n",
    "\n",
    "# # The following code is used by the autograder.\n",
    "# step10_data = knn_model, knn_best_parameters, knn_pl"
   ]
  },
  {
   "cell_type": "markdown",
   "metadata": {},
   "source": [
    "**Step11** [2 points]\n",
    "\n",
    "**Train and optimise the hyperparameters** to give the best performance for a **Decision tree classifier** classifier. For this model consider and  evaluate the following parameters:\n",
    "\n",
    "* criterion\n",
    "* max_depth (with no value greater than 20)\n",
    "* min_samples_split (with no value greater than 20)\n",
    "* min_samples_leaf (with no value greater than 20)\n",
    "* max_features\n",
    "\n",
    "Read the documentation about this model to find some proper ranges and ensure that you use the pipeline created in Step8 to train this model. \n"
   ]
  },
  {
   "cell_type": "code",
   "execution_count": 13,
   "metadata": {
    "tags": []
   },
   "outputs": [],
   "source": [
    "# from sklearn.tree import DecisionTreeClassifier\n",
    "\n",
    "# # Put the pipeline with the appropriate model \n",
    "# dt_pl = Pipeline([('pipeline', preproc_pl),('dt', DecisionTreeClassifier(random_state = 0))])\n",
    "\n",
    "# parameters_dt = {'dt__criterion': ['gini', 'entropy', 'log_loss'],\n",
    "#                   'dt__max_depth': [1,4,8,15],\n",
    "#                   'dt__min_samples_split': [2,4,8,15],\n",
    "#                   'dt__min_samples_leaf': [1,4,8,25], \n",
    "#                   'dt__max_features': ['sqrt', 'log2']}\n",
    "\n",
    "# # Use GridSearchCV with cv=5\n",
    "# dt_model = GridSearchCV(estimator = dt_pl, param_grid = parameters_dt, cv = 5, scoring = 'accuracy', return_train_score=True)\n",
    "\n",
    "# # Fit the GridSearchCV objects to the training data\n",
    "# dt_model.fit(X_train, y_train)\n",
    "\n",
    "# # dt_model.best_params_ = {'dt__criterion': 'entropy', \n",
    "# #                       'dt__max_depth': 10, \n",
    "# #                       'dt__min_samples_split': '6', \n",
    "# #                       'dt__min_samples_leaf': 1, \n",
    "# #                       'dt__max_features':'auto' }\n",
    "\n",
    "\n",
    "\n",
    "# print(f'dt_best_parameters : {dt_model.best_params_}') \n",
    "\n",
    "# # Return best parameters in a dictionary\n",
    "# dt_best_parameters = dt_model.best_params_\n",
    "\n",
    "# # Return best score\n",
    "# dt_best_score = dt_model.best_score_\n",
    "\n",
    "# # The following code is used by the autograder.\n",
    "# step11_data = dt_model,dt_best_parameters, dt_pl"
   ]
  },
  {
   "cell_type": "markdown",
   "metadata": {},
   "source": [
    "**Step12** [2 points]\n",
    "\n",
    "**Train and optimise the hyperparameters** to give the best performance for a **C-Support Vector Classification** classifier. For this model consider and  evaluate the following parameters:\n",
    "\n",
    "* C. Regularization parameter (with no value greater than 100)\n",
    "* kernel\n",
    "* gamma\n",
    "\n",
    "Read the documentation about this model to find some proper ranges and ensure that you use the pipeline created in Step8 to train this model. "
   ]
  },
  {
   "cell_type": "code",
   "execution_count": 14,
   "metadata": {
    "tags": []
   },
   "outputs": [],
   "source": [
    "# from sklearn.svm import SVC\n",
    "\n",
    "# # Put the pipeline with the appropriate model \n",
    "# svc_pl = Pipeline([('pipeline', preproc_pl),('svc', SVC(random_state = 0))])\n",
    "\n",
    "# parameters_svc = {'svc__C': [0.1, 1, 10, 100],\n",
    "#                   'svc__kernel': ['linear', 'poly', 'rbf', 'sigmoid'],\n",
    "#                   'svc__gamma': ['scale', 'auto']}\n",
    "\n",
    "# # Use GridSearchCV with cv=5 \n",
    "# svc_model = GridSearchCV(estimator = svc_pl, param_grid = parameters_svc, cv = 5, scoring = 'accuracy', return_train_score=True)\n",
    "\n",
    "\n",
    "# # Fit the GridSearchCV objects to the training data\n",
    "# svc_model.fit(X_train, y_train)\n",
    "\n",
    "# # svc_model.best_params_ = {'svc__C': 0.1, \n",
    "# #                       'svc__kernel': 'linear', \n",
    "# #                       'svc__gamma': 'scale'}\n",
    "\n",
    "# print(f'dt_best_parameters : {svc_model.best_params_}') \n",
    "\n",
    "# # Return best parameters in a dictionary\n",
    "# svc_best_parameters = svc_model.best_params_\n",
    "\n",
    "# # Return best score\n",
    "# svc_best_score = svc_model.best_score_\n",
    "\n",
    "# # The following code is used by the autograder.\n",
    "# step12_data = svc_model,svc_best_parameters, svc_pl"
   ]
  },
  {
   "cell_type": "markdown",
   "metadata": {},
   "source": [
    "**Step13** [2 points]\n",
    "\n",
    "**Train and optimise the hyperparameters** to give the best performance for a **SGD classifier** classifier. For this model consider and  evaluate the following parameters:\n",
    "\n",
    "* loss \n",
    "* penalty\n",
    "* alpha (with no value greater than 100)\n",
    "* learning_rate\n",
    "* eta0 (with no value greater than 100)\n",
    "\n",
    "Read the documentation about this model to find some proper ranges and ensure that you use the pipeline created in Step8 to train this model. "
   ]
  },
  {
   "cell_type": "code",
   "execution_count": 15,
   "metadata": {
    "tags": []
   },
   "outputs": [],
   "source": [
    "# # Put the pipeline with the appropriate model \n",
    "# sgd_pl = Pipeline([('pipeline', preproc_pl),('sgd', SGDClassifier(random_state = 0))])\n",
    "\n",
    "# parameters_sgd = {'sgd__loss': ['hinge', 'log_loss', 'modified_huber', 'squared_hinge', \n",
    "#                            'perceptron', 'huber'],\n",
    "#                   'sgd__penalty': ['l2', 'l1', 'elasticnet'],\n",
    "#                   'sgd__alpha': np.logspace(-2,2,4),\n",
    "#                   'sgd__learning_rate': ['constant', 'optimal', 'invscaling', 'adaptive'],\n",
    "#                   'sgd__eta0': np.logspace(-2,2,4)\n",
    "#                  }\n",
    "\n",
    "# # Use GridSearchCV with cv=5\n",
    "# sgd_model = GridSearchCV(estimator = sgd_pl, param_grid = parameters_sgd, cv = 5, scoring = 'accuracy', return_train_score=True)\n",
    "\n",
    "\n",
    "# # Fit the GridSearchCV objects to the training data\n",
    "# sgd_model.fit(X_train, y_train)\n",
    "\n",
    "# # sgd_model.best_params_ = {'sgd__loss': 'log', \n",
    "# #                       'sgd_penalty': 'l2' , \n",
    "# #                       'sgd_alpha': 0.1, \n",
    "# #                       'sgd_learning_rate': 'elasticnet', \n",
    "# #                       'sgd_eta0': 7.0}\n",
    "\n",
    "# print(f'dt_best_parameters : {sgd_model.best_params_}') \n",
    "\n",
    "# # Return best parameters in a dictionary\n",
    "# sgd_best_parameters = sgd_model.best_params_\n",
    "\n",
    "# # Return best score\n",
    "# sgd_best_score = sgd_model.best_score_\n",
    "\n",
    "# # The following code is used by the autograder.\n",
    "# step13_data = sgd_model,sgd_best_parameters, sgd_pl"
   ]
  },
  {
   "cell_type": "markdown",
   "metadata": {},
   "source": [
    "**Step14** [2 points]\n",
    "\n",
    "Considering the previous results using **GridSearchCV** for each one of the main classifiers, retrieve the obtained score using the best parameters in each case. Also indicate which are the three **best** models. "
   ]
  },
  {
   "cell_type": "code",
   "execution_count": 16,
   "metadata": {
    "tags": []
   },
   "outputs": [
    {
     "ename": "NameError",
     "evalue": "name 'knn_best_score' is not defined",
     "output_type": "error",
     "traceback": [
      "\u001b[1;31m---------------------------------------------------------------------------\u001b[0m",
      "\u001b[1;31mNameError\u001b[0m                                 Traceback (most recent call last)",
      "\u001b[1;32m<ipython-input-16-0ef1b619608b>\u001b[0m in \u001b[0;36m<module>\u001b[1;34m\u001b[0m\n\u001b[0;32m      1\u001b[0m \u001b[1;31m# Assign the best score for each model\u001b[0m\u001b[1;33m\u001b[0m\u001b[1;33m\u001b[0m\u001b[1;33m\u001b[0m\u001b[0m\n\u001b[1;32m----> 2\u001b[1;33m \u001b[0mknn_best_cv_scoring\u001b[0m \u001b[1;33m=\u001b[0m \u001b[0mknn_best_score\u001b[0m\u001b[1;33m\u001b[0m\u001b[1;33m\u001b[0m\u001b[0m\n\u001b[0m\u001b[0;32m      3\u001b[0m \u001b[0mdt_best_cv_scoring\u001b[0m  \u001b[1;33m=\u001b[0m \u001b[0mdt_best_score\u001b[0m\u001b[1;33m\u001b[0m\u001b[1;33m\u001b[0m\u001b[0m\n\u001b[0;32m      4\u001b[0m \u001b[0msvc_best_cv_scoring\u001b[0m \u001b[1;33m=\u001b[0m \u001b[0msvc_best_score\u001b[0m\u001b[1;33m\u001b[0m\u001b[1;33m\u001b[0m\u001b[0m\n\u001b[0;32m      5\u001b[0m \u001b[0msgd_best_cv_scoring\u001b[0m \u001b[1;33m=\u001b[0m \u001b[0msgd_best_score\u001b[0m\u001b[1;33m\u001b[0m\u001b[1;33m\u001b[0m\u001b[0m\n",
      "\u001b[1;31mNameError\u001b[0m: name 'knn_best_score' is not defined"
     ]
    }
   ],
   "source": [
    "# Assign the best score for each model \n",
    "knn_best_cv_scoring = knn_best_score\n",
    "dt_best_cv_scoring  = dt_best_score\n",
    "svc_best_cv_scoring = svc_best_score\n",
    "sgd_best_cv_scoring = sgd_best_score\n",
    "\n",
    "# knn_best_cv_scoring = knn_model.score(X_train,y_train)\n",
    "# dt_best_cv_scoring  = dt_model.score(X_train,y_train)\n",
    "# svc_best_cv_scoring = svc_model.score(X_train,y_train)\n",
    "# sgd_best_cv_scoring = sgd_model.score(X_train,y_train)\n",
    "\n",
    "print(knn_best_cv_scoring)\n",
    "print(dt_best_cv_scoring)\n",
    "print(svc_best_cv_scoring)\n",
    "print(sgd_best_cv_scoring)\n",
    "\n",
    "'''\n",
    "What are the three best models so far? Assign a list of the three best models\n",
    "to the variable below (best to worst). The model options are \"knn\", \"dt\", \"svc\" or \"sgd\"\n",
    "'''\n",
    "\n",
    "best_models = [\"sgd\", \"knn\", \"svc\"]\n",
    "\n",
    "# # The following code is used by the autograder.\n",
    "step14_data = best_models,knn_best_cv_scoring,dt_best_cv_scoring,svc_best_cv_scoring,sgd_best_cv_scoring"
   ]
  },
  {
   "cell_type": "markdown",
   "metadata": {},
   "source": [
    "**Step15** [0 points]\n",
    "\n",
    "Once you have performed the search of the best parameters for each one of these models, you can display the general performance of each model using the next function **plot_compare_classifier_score**. An example plot using the function provided would look like the following:\n",
    "\n",
    "<center><img src=\"scoring_curves.jpg\" width=900 alt=\"Example loss curve plot\"></center>"
   ]
  },
  {
   "cell_type": "code",
   "execution_count": null,
   "metadata": {
    "tags": []
   },
   "outputs": [],
   "source": [
    "# Function to check the performance of each parameter.\n",
    "def pooled_var(stds):\n",
    "    # https://en.wikipedia.org/wiki/Pooled_variance#Pooled_standard_deviation\n",
    "    n = 5 # size of each group\n",
    "    return np.sqrt(sum((n-1)*(stds**2))/ len(stds)*(n-1))\n",
    "\n",
    "# Function to create loss curves\n",
    "def plot_gridSearchCV_loss_curve(cv_results,grid_params,title):\n",
    "\n",
    "    df = pd.DataFrame(cv_results)\n",
    "    results = ['mean_test_score',\n",
    "               'mean_train_score',\n",
    "               'std_test_score',\n",
    "               'std_train_score']\n",
    "\n",
    "\n",
    "    fig, axes = plt.subplots(1, len(grid_params),\n",
    "                             figsize = (5*len(grid_params), 7),\n",
    "                             sharey='row')\n",
    "    axes[0].set_ylabel(\"Score\", fontsize=25)\n",
    "\n",
    "\n",
    "    for idx, (param_name, param_range) in enumerate(grid_params.items()):\n",
    "        grouped_df = df.groupby(f'param_{param_name}')[results]\\\n",
    "            .agg({'mean_train_score': 'mean',\n",
    "                  'mean_test_score': 'mean',\n",
    "                  'std_train_score': pooled_var,\n",
    "                  'std_test_score': pooled_var})\n",
    "\n",
    "        previous_group = df.groupby(f'param_{param_name}')[results]\n",
    "        axes[idx].set_xlabel(param_name, fontsize=30)\n",
    "        axes[idx].set_ylim(0.0, 1.1)\n",
    "        lw = 2\n",
    "        axes[idx].plot(param_range, grouped_df['mean_train_score'], label=\"Training score\",\n",
    "                    color=\"darkorange\", lw=lw)\n",
    "        axes[idx].fill_between(param_range,grouped_df['mean_train_score'] - grouped_df['std_train_score'],\n",
    "                        grouped_df['mean_train_score'] + grouped_df['std_train_score'], alpha=0.2,\n",
    "                        color=\"darkorange\", lw=lw)\n",
    "        axes[idx].plot(param_range, grouped_df['mean_test_score'], label=\"Cross-validation score\",\n",
    "                    color=\"navy\", lw=lw)\n",
    "        axes[idx].fill_between(param_range, grouped_df['mean_test_score'] - grouped_df['std_test_score'],\n",
    "                        grouped_df['mean_test_score'] + grouped_df['std_test_score'], alpha=0.2,\n",
    "                        color=\"navy\", lw=lw)\n",
    "\n",
    "    handles, labels = axes[0].get_legend_handles_labels()\n",
    "    fig.suptitle(f'{title} Validation curves', fontsize=30)\n",
    "    fig.legend(handles, labels, loc=8, ncol=2, fontsize=20)\n",
    "\n",
    "    fig.subplots_adjust(bottom=0.25, top=0.85)\n",
    "    plt.show()\n",
    "    \n",
    "# Check the performance for each model (knn, dt, svc and sgd). Use plot_gridSearchCV_loss_curve() function.\n",
    "plot_gridSearchCV_loss_curve(knn_model.cv_results_,parameters_knn,\"knn\")\n",
    "plot_gridSearchCV_loss_curve(dt_model.cv_results_,parameters_dt,\"dt\")\n",
    "plot_gridSearchCV_loss_curve(svc_model.cv_results_,parameters_svc,\"svc\")\n",
    "plot_gridSearchCV_loss_curve(sgd_model.cv_results_,parameters_sgd,\"sgd\")"
   ]
  },
  {
   "cell_type": "markdown",
   "metadata": {},
   "source": [
    "**Step16** [3 points]\n",
    "\n",
    "Having identified the best three models in Step 14, train them using their best parameters on the training data, and then make predictions on the validation set. Finally, calculate and display the following metrics for each case:\n",
    "\n",
    "* recall\n",
    "* precision\n",
    "* auc score\n",
    "* f1 score\n",
    "\n",
    "***HINT:*** Use the function you have created in Step5 to obtain the above metrics for each model."
   ]
  },
  {
   "cell_type": "code",
   "execution_count": null,
   "metadata": {
    "tags": []
   },
   "outputs": [],
   "source": [
    "# from sklearn.pipeline import make_pipeline\n",
    "# best_knn = make_pipeline(knn_model.best_estimator_)\n",
    "# best_svc = make_pipeline(svc_model.best_estimator_)\n",
    "# best_sgd = make_pipeline(sgd_model.best_estimator_)\n",
    "\n",
    "# best_knn.fit(X_train, y_train)\n",
    "# best_svc.fit(X_train, y_train)\n",
    "# best_sgd.fit(X_train, y_train)\n",
    "\n",
    "# '''\n",
    "# Assign the predictions made by each model to the variables below.\n",
    "# '''\n",
    "# predictions_model1 = best_sgd.predict(X_val)\n",
    "# predictions_model2 = best_svc.predict(X_val)\n",
    "# predictions_model3 = best_knn.predict(X_val)\n",
    "\n",
    "# '''\n",
    "# HINT: Use the function you have created in Step5. The function returns a tuple\n",
    "# containing the metrics.\n",
    "# '''\n",
    "# metrics_model1 = calculate_metrics(y_val, predictions_model1)\n",
    "# metrics_model2 = calculate_metrics(y_val, predictions_model2)\n",
    "# metrics_model3 = calculate_metrics(y_val, predictions_model3)\n",
    "\n",
    "# # The following code is used by the autograder.\n",
    "# step16_data = [(predictions_model1, predictions_model2, predictions_model3),(metrics_model1, metrics_model2, metrics_model3)]"
   ]
  },
  {
   "cell_type": "markdown",
   "metadata": {},
   "source": [
    "**Step17** [4 points]\n",
    "\n",
    "**Final performance**\n",
    "\n",
    "Choose the best model of the top 3 you obtained in **Step14**. Calculate and display an unbiased performance measure that you can present to the client."
   ]
  },
  {
   "cell_type": "code",
   "execution_count": null,
   "metadata": {
    "tags": []
   },
   "outputs": [],
   "source": [
    "'''\n",
    "Assign the training features, training labels that you would use for this step to the variables\n",
    "below.\n",
    "'''\n",
    "X_train_final = ...\n",
    "y_train_final = ...\n",
    "\n",
    "# Assign the best model to the variable below and train it\n",
    "final_model = ...\n",
    "\n",
    "\n",
    "# Assign the predictions made from your chosen best model for the unbiased estimate to the variable below.\n",
    "predictions_final_model = ...\n",
    "\n",
    "# Choose a performance metric based on the client's requirement and assign the result to the variable below.\n",
    "chosen_performance_metric_result = ...\n",
    "\n",
    "# The following code is used by the autograder\n",
    "step17_data = (predictions_final_model, chosen_performance_metric_result, X_train_final, y_train_final,final_model)"
   ]
  },
  {
   "cell_type": "markdown",
   "metadata": {},
   "source": [
    "**Step18** [3 points]\n",
    "\n",
    "**Rank features**\n",
    "\n",
    "Although it is only possible to know the true usefulness of a feature when you've combined it with others in a machine learning method, it is still helpful to have some measure for how discriminative each feature is on its own.  One common method for doing this is to calculate a *T-score* (often used in statistics, and in the **LDA** machine learning method) for each feature. The formula for the *T-score* is \n",
    "\n",
    "$$\n",
    "  T_{score} =  \\frac{(mean(x_{2}) - mean(x_{1}))}{0.5(stddev(x_{2}) + stddev(x_{1}))}\n",
    "$$\n",
    "\n",
    "where $x_{1}$ and $x_{2}$ are the datasets corresponding to the two classes. Large values for the *T-score* (either positive or negative) indicate discriminative ability. Define a function which returns this *T-score*. For this process use the entire dataset.\n",
    "\n",
    "**Using the defined function, calculate the *T-score* for each feature and obtain the best 4 features according to this score.**"
   ]
  },
  {
   "cell_type": "code",
   "execution_count": null,
   "metadata": {
    "tags": []
   },
   "outputs": [],
   "source": [
    "# Implement this function to calculate T score\n",
    "def calculate_t_score(x1, x2):\n",
    "    ...\n",
    "\n",
    "# Split the training data into two datasets corresponding to the two classes\n",
    "\n",
    "# Calculate the T score for the feature\n",
    "\n",
    "# Assign the top 4 features (in order) to this variable. It should be a list containing 4 feature names (strings).\n",
    "best_four_features = ...\n",
    "\n",
    "# The following code is used by the autograder.\n",
    "step18_data = best_four_features.copy()"
   ]
  },
  {
   "cell_type": "markdown",
   "metadata": {},
   "source": [
    "**Step19 [2 points]**\n",
    "\n",
    "You can visualize the results given by your model using a decision boundary. For this step, use the best two features (based on the previos step) and create a decision boundary plot. For this, use the best model obtained from Step17. The visualization of decision boundaries should be done using `DecisionBoundaryDisplay` from sklearn.inspection."
   ]
  },
  {
   "cell_type": "code",
   "execution_count": null,
   "metadata": {
    "tags": []
   },
   "outputs": [],
   "source": [
    "# comment out the following line before uploading to gradescope\n",
    "from sklearn.inspection import DecisionBoundaryDisplay\n",
    "\n",
    "# Assign the name of the best feature obtained in step18 to the variable below. (string)\n",
    "feature_one = ...\n",
    "\n",
    "# Assign the name of the second best feature obtained in step18 to the variable below. (string)\n",
    "feature_two = ...\n",
    "\n",
    "# Assign the training dataset that you would want to use for this step to the variable below\n",
    "data2d = ...\n",
    "\n",
    "'''\n",
    "Check the decumentation of DecisionBoundaryDisplay in sklearn from \n",
    "https://scikit-learn.org/stable/modules/generated/sklearn.inspection.DecisionBoundaryDisplay.html.\n",
    "\n",
    "Use DecisionBoundaryDisplay.from_estimator(...) and assign the instance to the variable\n",
    "below.\n",
    "\n",
    "comment out the call to DecisionBoundaryDisplay.from_estimator(...) and all the ploting lines before uploading to gradescope.\n",
    "'''\n",
    "disp_step19 = ...\n",
    "\n",
    "# Plotting the data points. Use this to create the scatter plot\n",
    "disp_step19.ax_.scatter(X_train[feature_one], X_train[feature_two],\n",
    "                        c=y_train, edgecolor=\"k\",\n",
    "                        cmap=plt.cm.coolwarm)\n",
    "plt.xlim(-0.3, 0.3)\n",
    "plt.title(f\"Decision surface for tree trained on {feature_one} and {feature_two}\")\n",
    "plt.show()\n",
    "\n",
    "# The following line of code is used by the autograder\n",
    "step19_data = feature_one, feature_two, data2d"
   ]
  },
  {
   "cell_type": "markdown",
   "metadata": {},
   "source": [
    "## Second Round\n",
    "\n",
    "After presenting your initial results to the client they come back to you and say that they have done some financial analysis and it would save them a lot of time and money if they did not have to analyse every cell, which is needed to get the \"worst\" features. Instead, they can quickly get accurate estimates for the \"mean\" and \"standard error\" features from a much smaller, randomly selected set of cells.\n",
    "\n",
    "They ask you to **give them a performance estimate for the same problem, but without using any of the \"worst\" features.**"
   ]
  },
  {
   "cell_type": "markdown",
   "metadata": {},
   "source": [
    "**Step20** [2 points]\n",
    "\n",
    "Create a new dataset according to the specifications of the client in round 2. After that, split the data appropriately."
   ]
  },
  {
   "cell_type": "code",
   "execution_count": null,
   "metadata": {
    "tags": []
   },
   "outputs": [],
   "source": [
    "# Assign the data to each variable appropriately\n",
    "X_train_r2 = ...\n",
    "y_train_r2 = ...\n",
    "X_test_r2 = ...\n",
    "y_test_r2 = ...\n",
    "X_val_r2 = ...\n",
    "y_val_r2 = ...\n",
    "\n",
    "# Print the size of each resulting subset\n",
    "print(\"Training set size (second round):\", len(X_train_r2))\n",
    "print(\"Validation set size (second round):\", len(X_val_r2))\n",
    "print(\"Test set size (second round):\", len(X_test_r2))\n",
    "\n",
    "# The following code is used by the autograder\n",
    "step20_data = [X_train_r2.shape, X_val_r2.shape, X_test_r2.shape]"
   ]
  },
  {
   "cell_type": "markdown",
   "metadata": {},
   "source": [
    "**Step21** [3 points]\n",
    "\n",
    "Train the best model obtained in the first round on the new dataset and find the best parameters."
   ]
  },
  {
   "cell_type": "code",
   "execution_count": null,
   "metadata": {
    "tags": []
   },
   "outputs": [],
   "source": [
    "\n",
    "\n",
    "# Assign the GridSearchCV instance you have obtained in this step to the variable below.\n",
    "final_model_r2 = ...\n",
    "print(f'best_parameters_r2: {final_model_r2.best_params_}')\n",
    "\n",
    "# Assign the best parameter dictionary to the variable below.\n",
    "best_parameters_r2 = ...\n",
    "\n",
    "# The following code is used by the autograder.\n",
    "step21_data = final_model_r2, best_parameters_r2"
   ]
  },
  {
   "cell_type": "markdown",
   "metadata": {},
   "source": [
    "**Step22** [3 points]\n",
    "\n",
    "Considering the best parameters identified in the previous step, train your best model using those parameters and calculate and display an unbiased performance measure."
   ]
  },
  {
   "cell_type": "code",
   "execution_count": null,
   "metadata": {
    "tags": []
   },
   "outputs": [],
   "source": [
    "\n",
    "'''\n",
    "Assign the training features, training labels that you would use for this step to the variables\n",
    "below.\n",
    "''' \n",
    "X_train_final_r2 = ...\n",
    "y_train_final_r2 = ...\n",
    "\n",
    "# Assign the best model you have trained again in order to get an unbiased performance estimate.\n",
    "final_model_r2 = ...\n",
    "\n",
    "# Assign the predictions made from your chosen best model for the unbiased estimate to the variable below.\n",
    "predictions_final_model_r2 = ...\n",
    "\n",
    "# Choose a performance metric based on the client's requirement and assign the result to the variable below.\n",
    "performance_metric_result_r2 = ...\n",
    "\n",
    "# The following code is used by the autograder\n",
    "step22_data = (predictions_final_model_r2, performance_metric_result_r2,X_train_final_r2, y_train_final_r2,final_model_r2)"
   ]
  },
  {
   "cell_type": "markdown",
   "metadata": {},
   "source": [
    "**Step23** [2 points]\n",
    "\n",
    "For this step you need to compare the final performance obtained in round 1 with the performance given in round 2. Don't run your models again, use the results from step17 and step22."
   ]
  },
  {
   "cell_type": "code",
   "execution_count": null,
   "metadata": {
    "tags": []
   },
   "outputs": [],
   "source": [
    "# Final performance for 2nd round\n",
    "final_performance_r1 = ...\n",
    "\n",
    "# Final performance for 2nd round\n",
    "final_performance_r2 = ...\n",
    "\n",
    "# What is your best model, \"r1\" or \"r2\". Put your answer in the variable final_answer (example: final_answer = \"r2\")\n",
    "final_answer = ...\n",
    "\n",
    "# The following code is used by the autograder\n",
    "step23_data = (final_performance_r1, final_performance_r2,final_answer)"
   ]
  },
  {
   "cell_type": "markdown",
   "metadata": {},
   "source": [
    "**Step24** [3 points]\n",
    "\n",
    "Once you have gone through the rigorous process of testing and evaluating different models with various parameters and in diverse circumstances, you now have a robust model capable of generalizing well to unseen data.\n",
    "\n",
    "The client has provided data about a new patient in a table format, and is expecting you to make a prediction about the person's condition as soon as possible. The following table contains the information provided by the client.\n",
    "\n",
    "| Characteristic | Value |\n",
    "| --- | --- |\n",
    "| mean radius |13.970546 | \n",
    "| mean texture|15.660529 | \n",
    "| mean perimeter | 91.432976| \n",
    "| mean area |600.575775 | \n",
    "| mean smoothness |0.099883 | \n",
    "| mean compactness | NaN| \n",
    "| mean concavity | 0.07505| \n",
    "| mean concave points | 0.023223| \n",
    "| mean symmetry | 0.186472| \n",
    "| mean fractal dimension | 0.05446|\n",
    "| radius error | 0.321022 | \n",
    "| texture error |1.044633 | \n",
    "| perimeter error |2.324773 | \n",
    "| area error |31.333479 | \n",
    "| smoothness error | 0.005675| \n",
    "| compactness error |0.023401 | \n",
    "| concavity error |0.026742 | \n",
    "| concave points error |0.009808 | \n",
    "| symmetry error | 0.029254| \n",
    "| fractal dimension error |0.00325 |\n",
    "| worst radius |12.728135 | \n",
    "| worst texture | 23.476671| \n",
    "| worst perimeter |103.834522 | \n",
    "| worst area | 798.832368| \n",
    "| worst smoothness |0.130751 | \n",
    "| worst compactness |0.264469 | \n",
    "| worst concavity |0.247665 | \n",
    "| worst concave points | 0.100153| \n",
    "| worst symmetry |0.301228 | \n",
    "| worst fractal dimension |0.083051 |  \n",
    "\n",
    "Your goal is to inform the client whether the sample corresponds to a benign or malignant case. Provide the class and also the probability that the sample belongs to the malignant class.\n",
    "\n",
    "Note: If your best model corresponds to SGD using loss='perceptron', you can use decision_function instead of predict_proba to obtain the confidence score for your sample instead of the probability of belonging to the malignant class. Refer to the documentation of SGDClassifier for more information on this case."
   ]
  },
  {
   "cell_type": "code",
   "execution_count": null,
   "metadata": {
    "tags": []
   },
   "outputs": [],
   "source": [
    "# Put your new data in form of a dataframe\n",
    "new_sample = ...\n",
    "# Print the data\n",
    "print(new_sample)\n",
    "\n",
    "# Use the best model to predict. \n",
    "\n",
    "# Prediction of the class. You need to say if the sample is bening or malignant (\"malignant\" or \"benign\")\n",
    "prediction_sample = ...\n",
    "\n",
    "# Probability or confidence score of the sample belonging to the malignant class\n",
    "probability_sample = ...\n",
    "\n",
    "# Print your results\n",
    "print(\"The class for this sample is \", prediction_sample)\n",
    "\n",
    "# NOTE: in the case of SGD, Confidence score values will not be bounded within 0 and 1.\n",
    "print(\"The probability / confidence score of belonging to malignant class is \", probability_sample)\n",
    "\n",
    "# The following code is used by the autograder\n",
    "step24_data = (new_sample,prediction_sample, probability_sample)"
   ]
  }
 ],
 "metadata": {
  "kernelspec": {
   "display_name": "Python 3",
   "language": "python",
   "name": "python3"
  },
  "language_info": {
   "codemirror_mode": {
    "name": "ipython",
    "version": 3
   },
   "file_extension": ".py",
   "mimetype": "text/x-python",
   "name": "python",
   "nbconvert_exporter": "python",
   "pygments_lexer": "ipython3",
   "version": "3.8.8"
  },
  "otter": {
   "OK_FORMAT": true,
   "tests": {
    "step01": {
     "name": "step01",
     "points": 1,
     "suites": [
      {
       "cases": [],
       "scored": true,
       "setup": "",
       "teardown": "",
       "type": "doctest"
      }
     ]
    },
    "step02": {
     "name": "step02",
     "points": 3,
     "suites": [
      {
       "cases": [],
       "scored": true,
       "setup": "",
       "teardown": "",
       "type": "doctest"
      }
     ]
    },
    "step03": {
     "name": "step03",
     "points": 3,
     "suites": [
      {
       "cases": [],
       "scored": true,
       "setup": "",
       "teardown": "",
       "type": "doctest"
      }
     ]
    },
    "step04": {
     "name": "step04",
     "points": 4,
     "suites": [
      {
       "cases": [],
       "scored": true,
       "setup": "",
       "teardown": "",
       "type": "doctest"
      }
     ]
    },
    "step05": {
     "name": "step05",
     "points": 2,
     "suites": [
      {
       "cases": [],
       "scored": true,
       "setup": "",
       "teardown": "",
       "type": "doctest"
      }
     ]
    },
    "step06": {
     "name": "step06",
     "points": 3,
     "suites": [
      {
       "cases": [],
       "scored": true,
       "setup": "",
       "teardown": "",
       "type": "doctest"
      }
     ]
    },
    "step07": {
     "name": "step07",
     "points": 3,
     "suites": [
      {
       "cases": [],
       "scored": true,
       "setup": "",
       "teardown": "",
       "type": "doctest"
      }
     ]
    },
    "step08": {
     "name": "step08",
     "points": 3,
     "suites": [
      {
       "cases": [],
       "scored": true,
       "setup": "",
       "teardown": "",
       "type": "doctest"
      }
     ]
    },
    "step09": {
     "name": "step09",
     "points": 2,
     "suites": [
      {
       "cases": [],
       "scored": true,
       "setup": "",
       "teardown": "",
       "type": "doctest"
      }
     ]
    },
    "step10": {
     "name": "step10",
     "points": 3,
     "suites": [
      {
       "cases": [],
       "scored": true,
       "setup": "",
       "teardown": "",
       "type": "doctest"
      }
     ]
    },
    "step11": {
     "name": "step11",
     "points": 2,
     "suites": [
      {
       "cases": [],
       "scored": true,
       "setup": "",
       "teardown": "",
       "type": "doctest"
      }
     ]
    },
    "step12": {
     "name": "step12",
     "points": 2,
     "suites": [
      {
       "cases": [],
       "scored": true,
       "setup": "",
       "teardown": "",
       "type": "doctest"
      }
     ]
    },
    "step13": {
     "name": "step13",
     "points": 2,
     "suites": [
      {
       "cases": [],
       "scored": true,
       "setup": "",
       "teardown": "",
       "type": "doctest"
      }
     ]
    },
    "step14": {
     "name": "step14",
     "points": 2,
     "suites": [
      {
       "cases": [],
       "scored": true,
       "setup": "",
       "teardown": "",
       "type": "doctest"
      }
     ]
    },
    "step15": {
     "name": "step15",
     "points": 0,
     "suites": [
      {
       "cases": [],
       "scored": true,
       "setup": "",
       "teardown": "",
       "type": "doctest"
      }
     ]
    },
    "step16": {
     "name": "step16",
     "points": 3,
     "suites": [
      {
       "cases": [],
       "scored": true,
       "setup": "",
       "teardown": "",
       "type": "doctest"
      }
     ]
    },
    "step17": {
     "name": "step17",
     "points": 4,
     "suites": [
      {
       "cases": [],
       "scored": true,
       "setup": "",
       "teardown": "",
       "type": "doctest"
      }
     ]
    },
    "step18": {
     "name": "step18",
     "points": 3,
     "suites": [
      {
       "cases": [],
       "scored": true,
       "setup": "",
       "teardown": "",
       "type": "doctest"
      }
     ]
    },
    "step19": {
     "name": "step19",
     "points": 2,
     "suites": [
      {
       "cases": [],
       "scored": true,
       "setup": "",
       "teardown": "",
       "type": "doctest"
      }
     ]
    },
    "step20": {
     "name": "step20",
     "points": 2,
     "suites": [
      {
       "cases": [],
       "scored": true,
       "setup": "",
       "teardown": "",
       "type": "doctest"
      }
     ]
    },
    "step21": {
     "name": "step21",
     "points": 3,
     "suites": [
      {
       "cases": [],
       "scored": true,
       "setup": "",
       "teardown": "",
       "type": "doctest"
      }
     ]
    },
    "step22": {
     "name": "step22",
     "points": 3,
     "suites": [
      {
       "cases": [],
       "scored": true,
       "setup": "",
       "teardown": "",
       "type": "doctest"
      }
     ]
    },
    "step23": {
     "name": "step23",
     "points": 2,
     "suites": [
      {
       "cases": [],
       "scored": true,
       "setup": "",
       "teardown": "",
       "type": "doctest"
      }
     ]
    },
    "step24": {
     "name": "step24",
     "points": 3,
     "suites": [
      {
       "cases": [],
       "scored": true,
       "setup": "",
       "teardown": "",
       "type": "doctest"
      }
     ]
    }
   }
  }
 },
 "nbformat": 4,
 "nbformat_minor": 4
}
